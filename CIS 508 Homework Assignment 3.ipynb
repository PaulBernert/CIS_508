{
 "cells": [
  {
   "cell_type": "markdown",
   "metadata": {},
   "source": [
    "# Assignment Three - Homesite Quote Conversion"
   ]
  },
  {
   "cell_type": "markdown",
   "metadata": {},
   "source": [
    "### Import Required Libraries"
   ]
  },
  {
   "cell_type": "code",
   "execution_count": 1,
   "metadata": {},
   "outputs": [],
   "source": [
    "# Reading / Writing Files & Encoding\n",
    "import pandas as pd\n",
    "import numpy as np\n",
    "\n",
    "# Pre-Processing\n",
    "from sklearn.model_selection import train_test_split\n",
    "\n",
    "# Sampling\n",
    "from imblearn.over_sampling import SMOTE\n",
    "\n",
    "# Ensembles & Functions\n",
    "from vecstack import stacking\n",
    "from sklearn.svm import LinearSVC as svc\n",
    "from sklearn.tree import DecisionTreeClassifier\n",
    "from sklearn.neural_network import MLPClassifier\n",
    "from sklearn.neighbors import KNeighborsClassifier\n",
    "from sklearn.model_selection import RandomizedSearchCV\n",
    "from sklearn.ensemble import GradientBoostingClassifier, RandomForestClassifier\n",
    "\n",
    "# Accuracy\n",
    "from sklearn.metrics import classification_report, confusion_matrix, accuracy_score\n",
    "\n",
    "# Miscellaneous\n",
    "from collections import Counter #for Smote, \n",
    "import warnings\n",
    "warnings.filterwarnings(\"ignore\")"
   ]
  },
  {
   "cell_type": "markdown",
   "metadata": {},
   "source": [
    "### Load in Data, Create Dataframes and Perform Basic Cleaning & Operations"
   ]
  },
  {
   "cell_type": "code",
   "execution_count": 2,
   "metadata": {},
   "outputs": [],
   "source": [
    "train_dataframe = pd.read_csv(\"data/assignment_three/revised_train.csv\")\n",
    "train_df = train_dataframe.drop(['QuoteConversion_Flag'], axis=1)\n",
    "test_df = pd.read_csv(\"data/assignment_three/revised_test.csv\")"
   ]
  },
  {
   "cell_type": "code",
   "execution_count": 3,
   "metadata": {},
   "outputs": [
    {
     "name": "stdout",
     "output_type": "stream",
     "text": [
      "Observations in the Training Dataset: 65000.\n",
      "Observations in the Testing Dataset: 173836.\n"
     ]
    }
   ],
   "source": [
    "print(f\"Observations in the Training Dataset: {len(train_df)}.\")\n",
    "print(f\"Observations in the Testing Dataset: {len(test_df)}.\")"
   ]
  },
  {
   "cell_type": "code",
   "execution_count": 4,
   "metadata": {},
   "outputs": [],
   "source": [
    "X = train_df\n",
    "y = train_dataframe['QuoteConversion_Flag']"
   ]
  },
  {
   "cell_type": "code",
   "execution_count": 5,
   "metadata": {},
   "outputs": [],
   "source": [
    "X_train, X_test, y_train, y_test = train_test_split(X, y, train_size=0.70, random_state=42)"
   ]
  },
  {
   "cell_type": "code",
   "execution_count": 6,
   "metadata": {},
   "outputs": [],
   "source": [
    "def accuracy_output(model):\n",
    "    print(\"=== ACCURACY ===\")\n",
    "    print(round(model.score(X_test, y_test),6))"
   ]
  },
  {
   "cell_type": "code",
   "execution_count": 7,
   "metadata": {},
   "outputs": [],
   "source": [
    "def confusion_output(y_test,X_test_prediction):\n",
    "    print(\"=== CONFUSION MATRIX ===\")\n",
    "    print(confusion_matrix(y_test, X_test_prediction))"
   ]
  },
  {
   "cell_type": "markdown",
   "metadata": {},
   "source": [
    "# 1. Decision Tree Classifier"
   ]
  },
  {
   "cell_type": "code",
   "execution_count": 8,
   "metadata": {},
   "outputs": [],
   "source": [
    "decision_tree = DecisionTreeClassifier()\n",
    "decision_tree.fit(X_train, y_train)\n",
    "decision_tree_prediction = decision_tree.predict(X_test)"
   ]
  },
  {
   "cell_type": "code",
   "execution_count": 9,
   "metadata": {},
   "outputs": [
    {
     "name": "stdout",
     "output_type": "stream",
     "text": [
      "=== ACCURACY ===\n",
      "0.883692\n",
      "=== CONFUSION MATRIX ===\n",
      "[[14656  1155]\n",
      " [ 1113  2576]]\n"
     ]
    }
   ],
   "source": [
    "accuracy_output(decision_tree)\n",
    "confusion_output(y_test, decision_tree_prediction)"
   ]
  },
  {
   "cell_type": "markdown",
   "metadata": {},
   "source": [
    "## 1.1 Hyperparameter Tuning - RandomSearchCV"
   ]
  },
  {
   "cell_type": "code",
   "execution_count": 10,
   "metadata": {},
   "outputs": [],
   "source": [
    "parameters = {\n",
    "    'min_samples_split' : [i*50 for i in range(1,20)],\n",
    "    'criterion' : ['gini','entropy'],\n",
    "    'max_leaf_nodes' : [i*50 for i in range(2,8)]\n",
    "}"
   ]
  },
  {
   "cell_type": "code",
   "execution_count": 11,
   "metadata": {},
   "outputs": [
    {
     "name": "stdout",
     "output_type": "stream",
     "text": [
      "Random Search Optimal Parameters: {'min_samples_split': 100, 'max_leaf_nodes': 100, 'criterion': 'entropy'}\n"
     ]
    }
   ],
   "source": [
    "decision_tree_random = RandomizedSearchCV(decision_tree,parameters,n_iter=50,cv=5,n_jobs=-1,verbose=False)\n",
    "decision_tree_random.fit(X_train, y_train)\n",
    "decision_tree_random_params = decision_tree_random.best_params_\n",
    "print(f\"Random Search Optimal Parameters: {decision_tree_random_params}\")"
   ]
  },
  {
   "cell_type": "markdown",
   "metadata": {},
   "source": [
    "# 2. Random Forest"
   ]
  },
  {
   "cell_type": "code",
   "execution_count": 12,
   "metadata": {},
   "outputs": [],
   "source": [
    "random_forest = RandomForestClassifier()\n",
    "random_forest.fit(X_train, y_train)\n",
    "random_forest_prediction = random_forest.predict(X_test)"
   ]
  },
  {
   "cell_type": "code",
   "execution_count": 13,
   "metadata": {},
   "outputs": [
    {
     "name": "stdout",
     "output_type": "stream",
     "text": [
      "=== ACCURACY ===\n",
      "0.905641\n",
      "=== CONFUSION MATRIX ===\n",
      "[[15535   276]\n",
      " [ 1564  2125]]\n"
     ]
    }
   ],
   "source": [
    "accuracy_output(random_forest)\n",
    "confusion_output(y_test, random_forest_prediction)"
   ]
  },
  {
   "cell_type": "markdown",
   "metadata": {},
   "source": [
    "## 2.1 Hyperparameter Tuning - RandomSearchCV"
   ]
  },
  {
   "cell_type": "code",
   "execution_count": 14,
   "metadata": {},
   "outputs": [],
   "source": [
    "random_parameters = {\n",
    "    'min_samples_leaf' : [i for i in range(1,5)],\n",
    "    'max_depth': [i*5 for i in range(10,20)],\n",
    "    'n_estimators':[i*5 for i in range(5,15)]\n",
    "}"
   ]
  },
  {
   "cell_type": "code",
   "execution_count": 15,
   "metadata": {},
   "outputs": [
    {
     "name": "stdout",
     "output_type": "stream",
     "text": [
      "{'n_estimators': 65, 'min_samples_leaf': 2, 'max_depth': 65}\n"
     ]
    }
   ],
   "source": [
    "random_forest_random = RandomizedSearchCV(random_forest,random_parameters,n_iter=50,cv=5,n_jobs=-1,verbose=False)\n",
    "\n",
    "random_forest_random.fit(X_train, y_train)\n",
    "random_forest_random_params = random_forest_random.best_params_\n",
    "\n",
    "print(random_forest_random_params)"
   ]
  },
  {
   "cell_type": "markdown",
   "metadata": {},
   "source": [
    "# 3. Support Vector Machines"
   ]
  },
  {
   "cell_type": "code",
   "execution_count": 16,
   "metadata": {},
   "outputs": [],
   "source": [
    "support_vector_machines = svc()\n",
    "support_vector_machines.fit(X_train, y_train)\n",
    "support_vector_prediction = support_vector_machines.predict(X_test)"
   ]
  },
  {
   "cell_type": "code",
   "execution_count": 17,
   "metadata": {},
   "outputs": [
    {
     "name": "stdout",
     "output_type": "stream",
     "text": [
      "=== ACCURACY ===\n",
      "0.387795\n",
      "=== CONFUSION MATRIX ===\n",
      "[[ 4539 11272]\n",
      " [  666  3023]]\n"
     ]
    }
   ],
   "source": [
    "accuracy_output(support_vector_machines)\n",
    "confusion_output(y_test, support_vector_prediction)"
   ]
  },
  {
   "cell_type": "markdown",
   "metadata": {},
   "source": [
    "## 3.1 Hyperparameter Tuning - RandomSearchCV"
   ]
  },
  {
   "cell_type": "code",
   "execution_count": 18,
   "metadata": {},
   "outputs": [],
   "source": [
    "svm_parameters = {\n",
    "    'penalty':['l1','l2'],\n",
    "    'C':[i*50 for i in range(1,5)],\n",
    "    'max_iter':[i*1000 for i in range(1,5)]\n",
    "}"
   ]
  },
  {
   "cell_type": "code",
   "execution_count": 19,
   "metadata": {},
   "outputs": [
    {
     "name": "stdout",
     "output_type": "stream",
     "text": [
      "{'penalty': 'l2', 'max_iter': 2000, 'C': 200}\n"
     ]
    }
   ],
   "source": [
    "svm_random = RandomizedSearchCV(support_vector_machines,svm_parameters,n_iter=5,cv=5,n_jobs=-1,verbose=False)\n",
    "\n",
    "svm_random.fit(X_train,y_train)\n",
    "svm_random_params = svm_random.best_params_\n",
    "\n",
    "print(svm_random_params)"
   ]
  },
  {
   "cell_type": "markdown",
   "metadata": {},
   "source": [
    "# 4. K-Nearest Neighbors"
   ]
  },
  {
   "cell_type": "code",
   "execution_count": 20,
   "metadata": {},
   "outputs": [],
   "source": [
    "k_neighbors = KNeighborsClassifier()\n",
    "k_neighbors.fit(X_train, y_train)\n",
    "k_neighbors_prediction = k_neighbors.predict(X_test)"
   ]
  },
  {
   "cell_type": "code",
   "execution_count": 21,
   "metadata": {},
   "outputs": [
    {
     "name": "stdout",
     "output_type": "stream",
     "text": [
      "=== ACCURACY ===\n",
      "0.781333\n",
      "=== CONFUSION MATRIX ===\n",
      "[[15037   774]\n",
      " [ 3490   199]]\n"
     ]
    }
   ],
   "source": [
    "accuracy_output(k_neighbors)\n",
    "confusion_output(y_test, k_neighbors_prediction)"
   ]
  },
  {
   "cell_type": "markdown",
   "metadata": {},
   "source": [
    "## 4.1 Hyperparameter Tuning - RandomSearchCV"
   ]
  },
  {
   "cell_type": "code",
   "execution_count": 22,
   "metadata": {},
   "outputs": [],
   "source": [
    "knn_parameters = {\n",
    "    'n_neighbors':[i*5 for i in range(1, 5)],\n",
    "    'weights':['uniform','distance'],\n",
    "    'p':[1,2],\n",
    "    'algorithm':['auto', 'ball_tree', 'kd_tree', 'brute'],\n",
    "    'leaf_size':[i*30 for i in range(1,10)]\n",
    "}"
   ]
  },
  {
   "cell_type": "code",
   "execution_count": 23,
   "metadata": {},
   "outputs": [
    {
     "name": "stdout",
     "output_type": "stream",
     "text": [
      "{'weights': 'distance', 'p': 1, 'n_neighbors': 20, 'leaf_size': 150, 'algorithm': 'auto'}\n"
     ]
    }
   ],
   "source": [
    "knn_random = RandomizedSearchCV(k_neighbors,knn_parameters,n_iter=10,cv=5,n_jobs=-1,verbose=False)\n",
    "\n",
    "knn_random.fit(X_train,y_train)\n",
    "knn_random_params = knn_random.best_params_\n",
    "\n",
    "print(knn_random_params)"
   ]
  },
  {
   "cell_type": "markdown",
   "metadata": {},
   "source": [
    "# 5. Multilayer Perceptron"
   ]
  },
  {
   "cell_type": "code",
   "execution_count": 24,
   "metadata": {},
   "outputs": [],
   "source": [
    "multilayer_perceptron = MLPClassifier()\n",
    "multilayer_perceptron.fit(X_train, y_train)\n",
    "multilayer_perceptron_prediction = multilayer_perceptron.predict(X_test)"
   ]
  },
  {
   "cell_type": "code",
   "execution_count": 25,
   "metadata": {},
   "outputs": [
    {
     "name": "stdout",
     "output_type": "stream",
     "text": [
      "=== ACCURACY ===\n",
      "0.598923\n",
      "=== CONFUSION MATRIX ===\n",
      "[[8298 7513]\n",
      " [ 308 3381]]\n"
     ]
    }
   ],
   "source": [
    "accuracy_output(multilayer_perceptron)\n",
    "confusion_output(y_test, multilayer_perceptron_prediction)"
   ]
  },
  {
   "cell_type": "markdown",
   "metadata": {},
   "source": [
    "## 5.1 Hyperparameter Tuning - RandomSearchCV"
   ]
  },
  {
   "cell_type": "code",
   "execution_count": 26,
   "metadata": {},
   "outputs": [],
   "source": [
    "m_layer_parameters = {\n",
    "    'activation':['identity', 'logistic', 'tanh', 'relu'],\n",
    "    'learning_rate_init':[i/1000 for i in range(1,5)],\n",
    "    'max_iter':[i*100 for i in range(1,5)],\n",
    "    'tol':[i/10000 for i in range(1,4)]\n",
    "}"
   ]
  },
  {
   "cell_type": "code",
   "execution_count": 27,
   "metadata": {},
   "outputs": [
    {
     "name": "stdout",
     "output_type": "stream",
     "text": [
      "{'tol': 0.0001, 'max_iter': 100, 'learning_rate_init': 0.003, 'activation': 'identity'}\n"
     ]
    }
   ],
   "source": [
    "m_layer_random = RandomizedSearchCV(multilayer_perceptron,m_layer_parameters,n_iter=5,cv=5,n_jobs=-1,verbose=False)\n",
    "\n",
    "m_layer_random.fit(X_train,y_train)\n",
    "m_layer_random_params = m_layer_random.best_params_\n",
    "\n",
    "print(m_layer_random_params)"
   ]
  },
  {
   "cell_type": "markdown",
   "metadata": {},
   "source": [
    "# SMOTE"
   ]
  },
  {
   "cell_type": "code",
   "execution_count": 28,
   "metadata": {},
   "outputs": [
    {
     "name": "stdout",
     "output_type": "stream",
     "text": [
      "Original Train Dataframe Shape: Counter({0: 36927, 1: 8573}).\n",
      "Post-SMOTE Train Dataframe Shape: Counter({0: 36927, 1: 36927}).\n"
     ]
    }
   ],
   "source": [
    "smote = SMOTE()\n",
    "X_smote, y_smote = smote.fit_resample(X_train, y_train)\n",
    "\n",
    "print(f\"Original Train Dataframe Shape: {Counter(y_train)}.\")\n",
    "print(f\"Post-SMOTE Train Dataframe Shape: {Counter(y_smote)}.\")"
   ]
  },
  {
   "cell_type": "markdown",
   "metadata": {},
   "source": [
    "# Stacked Model"
   ]
  },
  {
   "cell_type": "code",
   "execution_count": 29,
   "metadata": {
    "scrolled": true
   },
   "outputs": [
    {
     "name": "stdout",
     "output_type": "stream",
     "text": [
      "task:         [classification]\n",
      "n_classes:    [2]\n",
      "metric:       [accuracy_score]\n",
      "mode:         [oof_pred_bag]\n",
      "n_models:     [5]\n",
      "\n",
      "model  0:     [DecisionTreeClassifier]\n",
      "    fold  0:  [0.87718681]\n",
      "    fold  1:  [0.88492308]\n",
      "    fold  2:  [0.88026374]\n",
      "    fold  3:  [0.87560440]\n",
      "    ----\n",
      "    MEAN:     [0.87949451] + [0.00355385]\n",
      "    FULL:     [0.87949451]\n",
      "\n",
      "model  1:     [RandomForestClassifier]\n",
      "    fold  0:  [0.90109890]\n",
      "    fold  1:  [0.90312088]\n",
      "    fold  2:  [0.90382418]\n",
      "    fold  3:  [0.90417582]\n",
      "    ----\n",
      "    MEAN:     [0.90305495] + [0.00119148]\n",
      "    FULL:     [0.90305495]\n",
      "\n",
      "model  2:     [LinearSVC]\n",
      "    fold  0:  [0.81090110]\n",
      "    fold  1:  [0.80307692]\n",
      "    fold  2:  [0.62276923]\n",
      "    fold  3:  [0.81142857]\n",
      "    ----\n",
      "    MEAN:     [0.76204396] + [0.08047828]\n",
      "    FULL:     [0.76204396]\n",
      "\n",
      "model  3:     [KNeighborsClassifier]\n",
      "    fold  0:  [0.78250549]\n",
      "    fold  1:  [0.78215385]\n",
      "    fold  2:  [0.78602198]\n",
      "    fold  3:  [0.77995604]\n",
      "    ----\n",
      "    MEAN:     [0.78265934] + [0.00217338]\n",
      "    FULL:     [0.78265934]\n",
      "\n",
      "model  4:     [MLPClassifier]\n",
      "    fold  0:  [0.47463736]\n",
      "    fold  1:  [0.45450549]\n",
      "    fold  2:  [0.65643956]\n",
      "    fold  3:  [0.85186813]\n",
      "    ----\n",
      "    MEAN:     [0.60936264] + [0.16059015]\n",
      "    FULL:     [0.60936264]\n",
      "\n"
     ]
    }
   ],
   "source": [
    "models = [\n",
    "    DecisionTreeClassifier(), \n",
    "    RandomForestClassifier(), \n",
    "    svc(), \n",
    "    KNeighborsClassifier(), \n",
    "    MLPClassifier()\n",
    "]\n",
    "\n",
    "stack_train, stack_test = stacking(models,                   \n",
    "    X_train, y_train, X_test,   \n",
    "    regression=False, \n",
    "    mode='oof_pred_bag', \n",
    "    needs_proba=False,\n",
    "    save_dir=None, \n",
    "    metric=accuracy_score, \n",
    "    n_folds=4, \n",
    "    stratified=True,\n",
    "    shuffle=True,  \n",
    "    random_state=0,    \n",
    "    verbose=2)"
   ]
  },
  {
   "cell_type": "markdown",
   "metadata": {},
   "source": [
    "# Stacked Model With SMOTE & Hyperparameter Tuning"
   ]
  },
  {
   "cell_type": "code",
   "execution_count": 30,
   "metadata": {
    "scrolled": true
   },
   "outputs": [
    {
     "name": "stdout",
     "output_type": "stream",
     "text": [
      "task:         [classification]\n",
      "n_classes:    [2]\n",
      "metric:       [accuracy_score]\n",
      "mode:         [oof_pred_bag]\n",
      "n_models:     [5]\n",
      "\n",
      "model  0:     [DecisionTreeClassifier]\n",
      "    fold  0:  [0.92964688]\n",
      "    fold  1:  [0.93170494]\n",
      "    fold  2:  [0.93375941]\n",
      "    fold  3:  [0.93110545]\n",
      "    ----\n",
      "    MEAN:     [0.93155417] + [0.00147690]\n",
      "    FULL:     [0.93155415]\n",
      "\n",
      "model  1:     [RandomForestClassifier]\n",
      "    fold  0:  [0.93760832]\n",
      "    fold  1:  [0.93809575]\n",
      "    fold  2:  [0.93955479]\n",
      "    fold  3:  [0.93711748]\n",
      "    ----\n",
      "    MEAN:     [0.93809408] + [0.00091151]\n",
      "    FULL:     [0.93809408]\n",
      "\n",
      "model  2:     [LinearSVC]\n",
      "    fold  0:  [0.56834922]\n",
      "    fold  1:  [0.68235485]\n",
      "    fold  2:  [0.50560581]\n",
      "    fold  3:  [0.67372583]\n",
      "    ----\n",
      "    MEAN:     [0.60750893] + [0.07400054]\n",
      "    FULL:     [0.60750941]\n",
      "\n",
      "model  3:     [KNeighborsClassifier]\n",
      "    fold  0:  [0.73099003]\n",
      "    fold  1:  [0.72985269]\n",
      "    fold  2:  [0.73265450]\n",
      "    fold  3:  [0.72821318]\n",
      "    ----\n",
      "    MEAN:     [0.73042760] + [0.00162092]\n",
      "    FULL:     [0.73042760]\n",
      "\n",
      "model  4:     [MLPClassifier]\n",
      "    fold  0:  [0.91978986]\n",
      "    fold  1:  [0.88269064]\n",
      "    fold  2:  [0.90629908]\n",
      "    fold  3:  [0.89524996]\n",
      "    ----\n",
      "    MEAN:     [0.90100739] + [0.01368790]\n",
      "    FULL:     [0.90100739]\n",
      "\n"
     ]
    }
   ],
   "source": [
    "models = [\n",
    "    DecisionTreeClassifier(**decision_tree_random_params), \n",
    "    RandomForestClassifier(**random_forest_random_params), \n",
    "    svc(**svm_random_params), \n",
    "    KNeighborsClassifier(**knn_random_params), \n",
    "    MLPClassifier(**m_layer_random_params)\n",
    "]\n",
    "\n",
    "stack_train, stack_test = stacking(models,                   \n",
    "    X_smote, y_smote, X_test,   \n",
    "    regression=False, \n",
    "    mode='oof_pred_bag', \n",
    "    needs_proba=False,\n",
    "    save_dir=None, \n",
    "    metric=accuracy_score, \n",
    "    n_folds=4, \n",
    "    stratified=True,\n",
    "    shuffle=True,  \n",
    "    random_state=0,    \n",
    "    verbose=2)"
   ]
  },
  {
   "cell_type": "markdown",
   "metadata": {},
   "source": [
    "# Train DataFrame Results"
   ]
  },
  {
   "cell_type": "code",
   "execution_count": 31,
   "metadata": {
    "scrolled": true
   },
   "outputs": [
    {
     "data": {
      "text/html": [
       "<div>\n",
       "<style scoped>\n",
       "    .dataframe tbody tr th:only-of-type {\n",
       "        vertical-align: middle;\n",
       "    }\n",
       "\n",
       "    .dataframe tbody tr th {\n",
       "        vertical-align: top;\n",
       "    }\n",
       "\n",
       "    .dataframe thead th {\n",
       "        text-align: right;\n",
       "    }\n",
       "</style>\n",
       "<table border=\"1\" class=\"dataframe\">\n",
       "  <thead>\n",
       "    <tr style=\"text-align: right;\">\n",
       "      <th></th>\n",
       "      <th>d_tree</th>\n",
       "      <th>r_forest</th>\n",
       "      <th>svm</th>\n",
       "      <th>knn</th>\n",
       "      <th>m_layer</th>\n",
       "    </tr>\n",
       "  </thead>\n",
       "  <tbody>\n",
       "    <tr>\n",
       "      <th>0</th>\n",
       "      <td>0</td>\n",
       "      <td>0</td>\n",
       "      <td>1</td>\n",
       "      <td>0</td>\n",
       "      <td>1</td>\n",
       "    </tr>\n",
       "  </tbody>\n",
       "</table>\n",
       "</div>"
      ],
      "text/plain": [
       "   d_tree  r_forest  svm  knn  m_layer\n",
       "0       0         0    1    0        1"
      ]
     },
     "execution_count": 31,
     "metadata": {},
     "output_type": "execute_result"
    }
   ],
   "source": [
    "train_results = {\n",
    "    'd_tree':decision_tree_prediction,\n",
    "    'r_forest':random_forest_prediction,\n",
    "    'svm':support_vector_prediction,\n",
    "    'knn':k_neighbors_prediction,\n",
    "    'm_layer':multilayer_perceptron_prediction\n",
    "}\n",
    "\n",
    "train_results_df = pd.DataFrame(data=train_results)\n",
    "train_results_df.head(1)"
   ]
  },
  {
   "cell_type": "markdown",
   "metadata": {},
   "source": [
    "# Casting to Test DataFrame"
   ]
  },
  {
   "cell_type": "code",
   "execution_count": 32,
   "metadata": {},
   "outputs": [
    {
     "data": {
      "text/html": [
       "<div>\n",
       "<style scoped>\n",
       "    .dataframe tbody tr th:only-of-type {\n",
       "        vertical-align: middle;\n",
       "    }\n",
       "\n",
       "    .dataframe tbody tr th {\n",
       "        vertical-align: top;\n",
       "    }\n",
       "\n",
       "    .dataframe thead th {\n",
       "        text-align: right;\n",
       "    }\n",
       "</style>\n",
       "<table border=\"1\" class=\"dataframe\">\n",
       "  <thead>\n",
       "    <tr style=\"text-align: right;\">\n",
       "      <th></th>\n",
       "      <th>d_tree</th>\n",
       "      <th>r_forest</th>\n",
       "      <th>svm</th>\n",
       "      <th>knn</th>\n",
       "      <th>m_layer</th>\n",
       "    </tr>\n",
       "  </thead>\n",
       "  <tbody>\n",
       "    <tr>\n",
       "      <th>0</th>\n",
       "      <td>0</td>\n",
       "      <td>0</td>\n",
       "      <td>1</td>\n",
       "      <td>0</td>\n",
       "      <td>0</td>\n",
       "    </tr>\n",
       "    <tr>\n",
       "      <th>1</th>\n",
       "      <td>0</td>\n",
       "      <td>0</td>\n",
       "      <td>1</td>\n",
       "      <td>1</td>\n",
       "      <td>0</td>\n",
       "    </tr>\n",
       "    <tr>\n",
       "      <th>2</th>\n",
       "      <td>0</td>\n",
       "      <td>0</td>\n",
       "      <td>1</td>\n",
       "      <td>1</td>\n",
       "      <td>0</td>\n",
       "    </tr>\n",
       "    <tr>\n",
       "      <th>3</th>\n",
       "      <td>0</td>\n",
       "      <td>0</td>\n",
       "      <td>0</td>\n",
       "      <td>0</td>\n",
       "      <td>0</td>\n",
       "    </tr>\n",
       "    <tr>\n",
       "      <th>4</th>\n",
       "      <td>0</td>\n",
       "      <td>0</td>\n",
       "      <td>1</td>\n",
       "      <td>1</td>\n",
       "      <td>0</td>\n",
       "    </tr>\n",
       "  </tbody>\n",
       "</table>\n",
       "</div>"
      ],
      "text/plain": [
       "   d_tree  r_forest  svm  knn  m_layer\n",
       "0       0         0    1    0        0\n",
       "1       0         0    1    1        0\n",
       "2       0         0    1    1        0\n",
       "3       0         0    0    0        0\n",
       "4       0         0    1    1        0"
      ]
     },
     "execution_count": 32,
     "metadata": {},
     "output_type": "execute_result"
    }
   ],
   "source": [
    "test_results = {\n",
    "    'd_tree':DecisionTreeClassifier(**decision_tree_random_params).fit(X_smote,y_smote).predict(test_df),\n",
    "    'r_forest':RandomForestClassifier(**random_forest_random_params).fit(X_smote,y_smote).predict(test_df),\n",
    "    'svm':svc(**svm_random_params).fit(X_smote,y_smote).predict(test_df),\n",
    "    'knn':KNeighborsClassifier(**knn_random_params).fit(X_smote,y_smote).predict(test_df),\n",
    "    'm_layer':MLPClassifier(**m_layer_random_params).fit(X_smote,y_smote).predict(test_df)\n",
    "}\n",
    "\n",
    "test_results_df = pd.DataFrame(data=test_results)\n",
    "test_results_df.head()"
   ]
  },
  {
   "cell_type": "markdown",
   "metadata": {},
   "source": [
    "# Kaggle Submission"
   ]
  },
  {
   "cell_type": "code",
   "execution_count": 63,
   "metadata": {},
   "outputs": [
    {
     "data": {
      "text/plain": [
       "GradientBoostingClassifier()"
      ]
     },
     "execution_count": 63,
     "metadata": {},
     "output_type": "execute_result"
    }
   ],
   "source": [
    "final_model = GradientBoostingClassifier()\n",
    "final_model.fit(X_smote, y_smote)"
   ]
  },
  {
   "cell_type": "code",
   "execution_count": 64,
   "metadata": {},
   "outputs": [],
   "source": [
    "final_prediction = final_model.predict(test_df)"
   ]
  },
  {
   "cell_type": "code",
   "execution_count": 70,
   "metadata": {},
   "outputs": [],
   "source": [
    "kaggle_df = pd.DataFrame(data=final_prediction)\n",
    "kaggle_df.to_csv(\"bernert_kaggle_submission.csv\")"
   ]
  }
 ],
 "metadata": {
  "kernelspec": {
   "display_name": "Python 3",
   "language": "python",
   "name": "python3"
  },
  "language_info": {
   "codemirror_mode": {
    "name": "ipython",
    "version": 3
   },
   "file_extension": ".py",
   "mimetype": "text/x-python",
   "name": "python",
   "nbconvert_exporter": "python",
   "pygments_lexer": "ipython3",
   "version": "3.7.6"
  }
 },
 "nbformat": 4,
 "nbformat_minor": 4
}
