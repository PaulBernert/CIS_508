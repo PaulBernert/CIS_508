{
 "cells": [
  {
   "cell_type": "markdown",
   "metadata": {},
   "source": [
    "# Question One - Fraud Detection "
   ]
  },
  {
   "cell_type": "markdown",
   "metadata": {},
   "source": [
    "##### Import Required Libraries"
   ]
  },
  {
   "cell_type": "code",
   "execution_count": 1,
   "metadata": {},
   "outputs": [],
   "source": [
    "# Reading / Writing Files\n",
    "import pandas as pd\n",
    "\n",
    "# Preprocessing\n",
    "from sklearn.model_selection import train_test_split\n",
    "\n",
    "# Encoding\n",
    "from sklearn.preprocessing import OneHotEncoder\n",
    "\n",
    "# Models / Functions / Ensembles\n",
    "from sklearn.model_selection import GridSearchCV\n",
    "from sklearn.model_selection import cross_val_score\n",
    "from sklearn.model_selection import RandomizedSearchCV\n",
    "from sklearn.tree import DecisionTreeClassifier\n",
    "from sklearn.ensemble import RandomForestClassifier\n",
    "\n",
    "# Accuracy Metrics\n",
    "from sklearn.metrics import classification_report, confusion_matrix\n",
    "\n",
    "# Miscellaneous\n",
    "import time\n",
    "import warnings\n",
    "warnings.filterwarnings(\"ignore\")"
   ]
  },
  {
   "cell_type": "markdown",
   "metadata": {},
   "source": [
    "##### Load in Data, Create Dataframes and Perform Basic Data Cleaning & Operations"
   ]
  },
  {
   "cell_type": "code",
   "execution_count": 2,
   "metadata": {},
   "outputs": [],
   "source": [
    "insurance_fraud_train_df = pd.read_csv('data/assignment_two/insurance_fraud_train.csv').dropna(axis='columns', how='all')\n",
    "insurance_fraud_test_df = pd.read_csv('data/assignment_two/insurance_fraud_test.csv').dropna(axis='columns', how='all')"
   ]
  },
  {
   "cell_type": "code",
   "execution_count": 3,
   "metadata": {},
   "outputs": [
    {
     "name": "stdout",
     "output_type": "stream",
     "text": [
      "Observations in Train DF: 2999.\n",
      "Observations in Test DF: 12918.\n"
     ]
    },
    {
     "data": {
      "text/html": [
       "<div>\n",
       "<style scoped>\n",
       "    .dataframe tbody tr th:only-of-type {\n",
       "        vertical-align: middle;\n",
       "    }\n",
       "\n",
       "    .dataframe tbody tr th {\n",
       "        vertical-align: top;\n",
       "    }\n",
       "\n",
       "    .dataframe thead th {\n",
       "        text-align: right;\n",
       "    }\n",
       "</style>\n",
       "<table border=\"1\" class=\"dataframe\">\n",
       "  <thead>\n",
       "    <tr style=\"text-align: right;\">\n",
       "      <th></th>\n",
       "      <th>MONTH</th>\n",
       "      <th>WEEKOFMONTH</th>\n",
       "      <th>DAYOFWEEK</th>\n",
       "      <th>MAKE</th>\n",
       "      <th>ACCIDENTAREA</th>\n",
       "      <th>DAYOFWEEKCLAIMED</th>\n",
       "      <th>MONTHCLAIMED</th>\n",
       "      <th>WEEKOFMONTHCLAIMED</th>\n",
       "      <th>SEX</th>\n",
       "      <th>MARITALSTATUS</th>\n",
       "      <th>...</th>\n",
       "      <th>AGEOFPOLICYHOLDER</th>\n",
       "      <th>POLICEREPORTFILED</th>\n",
       "      <th>WITNESSPRESENT</th>\n",
       "      <th>AGENTTYPE</th>\n",
       "      <th>NUMBEROFSUPPLIMENTS</th>\n",
       "      <th>ADDRESSCHANGE_CLAIM</th>\n",
       "      <th>NUMBEROFCARS</th>\n",
       "      <th>YEAR</th>\n",
       "      <th>BASEPOLICY</th>\n",
       "      <th>FRAUDFOUND</th>\n",
       "    </tr>\n",
       "  </thead>\n",
       "  <tbody>\n",
       "    <tr>\n",
       "      <td>0</td>\n",
       "      <td>Jul</td>\n",
       "      <td>3</td>\n",
       "      <td>Sunday</td>\n",
       "      <td>Honda</td>\n",
       "      <td>Rural</td>\n",
       "      <td>Wednesday</td>\n",
       "      <td>Jan</td>\n",
       "      <td>4</td>\n",
       "      <td>Male</td>\n",
       "      <td>Married</td>\n",
       "      <td>...</td>\n",
       "      <td>26_to_30</td>\n",
       "      <td>No</td>\n",
       "      <td>No</td>\n",
       "      <td>External</td>\n",
       "      <td>3_to_5</td>\n",
       "      <td>no_change</td>\n",
       "      <td>1-vehicle</td>\n",
       "      <td>1994</td>\n",
       "      <td>Collision</td>\n",
       "      <td>Yes</td>\n",
       "    </tr>\n",
       "  </tbody>\n",
       "</table>\n",
       "<p>1 rows × 32 columns</p>\n",
       "</div>"
      ],
      "text/plain": [
       "  MONTH  WEEKOFMONTH DAYOFWEEK   MAKE ACCIDENTAREA DAYOFWEEKCLAIMED  \\\n",
       "0   Jul            3    Sunday  Honda        Rural        Wednesday   \n",
       "\n",
       "  MONTHCLAIMED  WEEKOFMONTHCLAIMED   SEX MARITALSTATUS  ...  \\\n",
       "0          Jan                   4  Male       Married  ...   \n",
       "\n",
       "   AGEOFPOLICYHOLDER POLICEREPORTFILED WITNESSPRESENT AGENTTYPE  \\\n",
       "0           26_to_30                No             No  External   \n",
       "\n",
       "  NUMBEROFSUPPLIMENTS  ADDRESSCHANGE_CLAIM  NUMBEROFCARS  YEAR BASEPOLICY  \\\n",
       "0              3_to_5            no_change     1-vehicle  1994  Collision   \n",
       "\n",
       "  FRAUDFOUND  \n",
       "0        Yes  \n",
       "\n",
       "[1 rows x 32 columns]"
      ]
     },
     "execution_count": 3,
     "metadata": {},
     "output_type": "execute_result"
    }
   ],
   "source": [
    "print(f\"Observations in Train DF: {len(insurance_fraud_train_df)}.\")\n",
    "print(f\"Observations in Test DF: {len(insurance_fraud_test_df)}.\")\n",
    "\n",
    "# Peculiar how the Train DF is like 19% the size of all the data, our model isn't going to be trained very well..\n",
    "# I'm not going to take some creative freedom on this HW..\n",
    "\n",
    "insurance_fraud_train_df.head(1)"
   ]
  },
  {
   "cell_type": "code",
   "execution_count": 4,
   "metadata": {},
   "outputs": [],
   "source": [
    "concat_df = pd.concat([insurance_fraud_train_df,insurance_fraud_test_df])\n",
    "concat_df['FRAUDFOUND'] = concat_df['FRAUDFOUND'].str.replace('No','0').replace('Yes','1')\n",
    "\n",
    "# Clearly based on the information above, \"One-Hot-Encoding\" Will Be Necessary..\n",
    "# Pandas has gotten significantly better at encoding (since Python 3+)\n",
    "# Thus, won't even need to use Sklearn's OneHotEncoding function, just use pd.get_dummies\n",
    "# See below\n",
    "\n",
    "encoding_columns = concat_df.keys().tolist()"
   ]
  },
  {
   "cell_type": "code",
   "execution_count": 5,
   "metadata": {},
   "outputs": [],
   "source": [
    "# Train / Test Split using Sklearn's function.\n",
    "X = concat_df.drop('FRAUDFOUND',axis=1)\n",
    "X_encoded = pd.get_dummies(X, columns=X.keys().tolist())\n",
    "y = concat_df[['FRAUDFOUND']]\n",
    "\n",
    "X_train, X_test, y_train, y_test = train_test_split(X_encoded, y, train_size=0.80, random_state=42)"
   ]
  },
  {
   "cell_type": "markdown",
   "metadata": {},
   "source": [
    "## Create a Model"
   ]
  },
  {
   "cell_type": "markdown",
   "metadata": {},
   "source": [
    "#### Sklearn Basic Decision Tree Model"
   ]
  },
  {
   "cell_type": "code",
   "execution_count": 6,
   "metadata": {},
   "outputs": [
    {
     "name": "stdout",
     "output_type": "stream",
     "text": [
      "Accuracy Score for Basic Decision Tree: 0.957286\n",
      "Confusion Matrix for Decision Tree:\n",
      "[[2911   85]\n",
      " [  51  137]]\n"
     ]
    }
   ],
   "source": [
    "decision_tree_model = DecisionTreeClassifier()\n",
    "decision_tree_model.fit(X_train, y_train)\n",
    "X_test_prediction = decision_tree_model.predict(X_test)\n",
    "\n",
    "print(f\"Accuracy Score for Basic Decision Tree: {round(decision_tree_model.score(X_test,y_test),6)}\")\n",
    "\n",
    "print(\"Confusion Matrix for Decision Tree:\")\n",
    "print(confusion_matrix(y_test,X_test_prediction))"
   ]
  },
  {
   "cell_type": "markdown",
   "metadata": {},
   "source": [
    "#####  Hyperparameter Tuning an Sklearn Decision Tree Model"
   ]
  },
  {
   "cell_type": "code",
   "execution_count": 7,
   "metadata": {},
   "outputs": [],
   "source": [
    "parameters = {\n",
    "    'min_samples_split' : [i*50 for i in range(1,25)],\n",
    "    'criterion' : ['gini','entropy'],\n",
    "    'max_leaf_nodes' : [i*2 for i in range(1,10)]\n",
    "}"
   ]
  },
  {
   "cell_type": "code",
   "execution_count": 8,
   "metadata": {},
   "outputs": [
    {
     "name": "stdout",
     "output_type": "stream",
     "text": [
      "Fitting 3 folds for each of 432 candidates, totalling 1296 fits\n"
     ]
    },
    {
     "name": "stderr",
     "output_type": "stream",
     "text": [
      "[Parallel(n_jobs=1)]: Using backend SequentialBackend with 1 concurrent workers.\n"
     ]
    },
    {
     "name": "stdout",
     "output_type": "stream",
     "text": [
      "Grid Search Optimal Parameters: {'criterion': 'entropy', 'max_leaf_nodes': 16, 'min_samples_split': 250}\n"
     ]
    },
    {
     "name": "stderr",
     "output_type": "stream",
     "text": [
      "[Parallel(n_jobs=1)]: Done 1296 out of 1296 | elapsed:  2.0min finished\n"
     ]
    }
   ],
   "source": [
    "# Grid Search\n",
    "decision_tree_model_grid = GridSearchCV(decision_tree_model,parameters,verbose=True)\n",
    "decision_tree_model_grid.fit(X_train, y_train)\n",
    "\n",
    "grid_parameter_soln = decision_tree_model_grid.best_params_\n",
    "print(f\"Grid Search Optimal Parameters: {grid_parameter_soln}\")"
   ]
  },
  {
   "cell_type": "code",
   "execution_count": 9,
   "metadata": {},
   "outputs": [
    {
     "name": "stderr",
     "output_type": "stream",
     "text": [
      "[Parallel(n_jobs=1)]: Using backend SequentialBackend with 1 concurrent workers.\n"
     ]
    },
    {
     "name": "stdout",
     "output_type": "stream",
     "text": [
      "Fitting 5 folds for each of 100 candidates, totalling 500 fits\n",
      "Grid Search Optimal Parameters: {'min_samples_split': 400, 'max_leaf_nodes': 8, 'criterion': 'gini'}\n"
     ]
    },
    {
     "name": "stderr",
     "output_type": "stream",
     "text": [
      "[Parallel(n_jobs=1)]: Done 500 out of 500 | elapsed:   55.9s finished\n"
     ]
    }
   ],
   "source": [
    "# Random Search\n",
    "decision_tree_model_random = RandomizedSearchCV(decision_tree_model,parameters,n_iter=100,cv=5,verbose=True)\n",
    "decision_tree_model_random.fit(X_train, y_train)\n",
    "random_parameter_soln = decision_tree_model_random.best_params_\n",
    "print(f\"Grid Search Optimal Parameters: {random_parameter_soln}\")"
   ]
  },
  {
   "cell_type": "markdown",
   "metadata": {},
   "source": [
    "##### Using Models with Hyperparameter Solutions"
   ]
  },
  {
   "cell_type": "code",
   "execution_count": 10,
   "metadata": {},
   "outputs": [],
   "source": [
    "# Grid\n",
    "hyperparameter_grid = DecisionTreeClassifier(**grid_parameter_soln)\n",
    "\n",
    "hyperparameter_grid.fit(X_train,y_train)\n",
    "hyperparameter_grid_results = hyperparameter_grid.predict(X_test)"
   ]
  },
  {
   "cell_type": "code",
   "execution_count": 11,
   "metadata": {},
   "outputs": [
    {
     "name": "stdout",
     "output_type": "stream",
     "text": [
      "Accuracy Score After Hypertuning Grid Search for Decision Tree: 0.941897\n"
     ]
    }
   ],
   "source": [
    "print(f\"Accuracy Score After Hypertuning Grid Search for Decision Tree: {round(hyperparameter_grid.score(X_test,y_test),6)}\")"
   ]
  },
  {
   "cell_type": "code",
   "execution_count": 12,
   "metadata": {},
   "outputs": [],
   "source": [
    "# Random\n",
    "hyperparameter_random = DecisionTreeClassifier(**random_parameter_soln)\n",
    "\n",
    "hyperparameter_random.fit(X_train,y_train)\n",
    "hyperparameter_random_results = hyperparameter_random.predict(X_test)"
   ]
  },
  {
   "cell_type": "code",
   "execution_count": 13,
   "metadata": {},
   "outputs": [
    {
     "name": "stdout",
     "output_type": "stream",
     "text": [
      "Accuracy Score After Hypertuning Random Search for Decision Tree: 0.941269\n"
     ]
    }
   ],
   "source": [
    "print(f\"Accuracy Score After Hypertuning Random Search for Decision Tree: {round(hyperparameter_random.score(X_test,y_test),6)}\")"
   ]
  },
  {
   "cell_type": "markdown",
   "metadata": {},
   "source": [
    "Hyperparameter tuning with Grid Search produced marginally better results than random search results.\n",
    "This is to be expected, as Grid Search will produce more accurate results at the expense of additional resources (time). Let's see the results of Hyperparameter Tuning a Decision Tree using Grid Search."
   ]
  },
  {
   "cell_type": "code",
   "execution_count": 14,
   "metadata": {},
   "outputs": [
    {
     "name": "stdout",
     "output_type": "stream",
     "text": [
      "Confusion Matrix After Hypertuning for Decision Tree\n",
      "[[2984   12]\n",
      " [ 173   15]]\n"
     ]
    }
   ],
   "source": [
    "print(\"Confusion Matrix After Hypertuning for Decision Tree\")\n",
    "print(confusion_matrix(y_test,hyperparameter_grid_results))"
   ]
  },
  {
   "cell_type": "code",
   "execution_count": 15,
   "metadata": {},
   "outputs": [
    {
     "name": "stdout",
     "output_type": "stream",
     "text": [
      "=== CLASSIFICATION REPORT ===\n",
      "              precision    recall  f1-score   support\n",
      "\n",
      "           0       0.95      1.00      0.97      2996\n",
      "           1       0.56      0.08      0.14       188\n",
      "\n",
      "    accuracy                           0.94      3184\n",
      "   macro avg       0.75      0.54      0.55      3184\n",
      "weighted avg       0.92      0.94      0.92      3184\n",
      "\n"
     ]
    }
   ],
   "source": [
    "print(\"=== CLASSIFICATION REPORT ===\")\n",
    "print(classification_report(y_test,hyperparameter_grid_results))"
   ]
  },
  {
   "cell_type": "markdown",
   "metadata": {},
   "source": [
    "##### Cross Validation for Hyperparameterized Grid Search"
   ]
  },
  {
   "cell_type": "code",
   "execution_count": 16,
   "metadata": {},
   "outputs": [
    {
     "name": "stdout",
     "output_type": "stream",
     "text": [
      "Cross Validation for Grid Search:\n",
      " [0.54756613 0.53448276 0.51724138 0.55068464 0.53448276 0.53448276\n",
      " 0.51620188 0.51308338 0.55068464 0.497921   0.51785714 0.55253193\n",
      " 0.51577814 0.53571429 0.55149243 0.53467478 0.51785714 0.55357143\n",
      " 0.55149243 0.54837392 0.53363528 0.53363528 0.53467478 0.55149243\n",
      " 0.51369048]\n"
     ]
    }
   ],
   "source": [
    "classifier_cross_validation_score = cross_val_score(hyperparameter_grid, X_train, y_train, cv=25, scoring=\"balanced_accuracy\")\n",
    "print(f\"Cross Validation for Grid Search:\\n {classifier_cross_validation_score}\")"
   ]
  },
  {
   "cell_type": "markdown",
   "metadata": {},
   "source": [
    "##### Sklearn Basic Random Forest Model"
   ]
  },
  {
   "cell_type": "code",
   "execution_count": 17,
   "metadata": {},
   "outputs": [],
   "source": [
    "random_parameters = {\n",
    "    'min_samples_leaf' : [i*2 for i in range(1,5)],\n",
    "    'max_depth': [i*5 for i in range(1,5)],\n",
    "    'max_features':[i*10 for i in range(2,7)],\n",
    "    'n_estimators':[i*2 for i in range(1,5)]\n",
    "}"
   ]
  },
  {
   "cell_type": "code",
   "execution_count": 18,
   "metadata": {},
   "outputs": [],
   "source": [
    "random_forest = RandomForestClassifier()"
   ]
  },
  {
   "cell_type": "code",
   "execution_count": 19,
   "metadata": {},
   "outputs": [],
   "source": [
    "random_forest.fit(X_train, y_train)\n",
    "random_forest_soln = random_forest.predict(X_test)"
   ]
  },
  {
   "cell_type": "code",
   "execution_count": 20,
   "metadata": {},
   "outputs": [
    {
     "name": "stdout",
     "output_type": "stream",
     "text": [
      "Accuracy Score for Default Random Forest: 0.97299\n"
     ]
    }
   ],
   "source": [
    "print(f\"Accuracy Score for Default Random Forest: {round(random_forest.score(X_test,y_test),6)}\")"
   ]
  },
  {
   "cell_type": "code",
   "execution_count": 21,
   "metadata": {},
   "outputs": [
    {
     "name": "stdout",
     "output_type": "stream",
     "text": [
      "Confusion Matrix for Default Random Forest:\n",
      "[[2994    2]\n",
      " [  84  104]]\n"
     ]
    }
   ],
   "source": [
    "print(\"Confusion Matrix for Default Random Forest:\")\n",
    "print(confusion_matrix(y_test,random_forest_soln))"
   ]
  },
  {
   "cell_type": "markdown",
   "metadata": {},
   "source": [
    "##### Random Forest Grid Search with Cross-Validation"
   ]
  },
  {
   "cell_type": "code",
   "execution_count": 22,
   "metadata": {},
   "outputs": [
    {
     "name": "stdout",
     "output_type": "stream",
     "text": [
      "Fitting 3 folds for each of 320 candidates, totalling 960 fits\n"
     ]
    },
    {
     "name": "stderr",
     "output_type": "stream",
     "text": [
      "[Parallel(n_jobs=1)]: Using backend SequentialBackend with 1 concurrent workers.\n",
      "[Parallel(n_jobs=1)]: Done 960 out of 960 | elapsed:  2.1min finished\n"
     ]
    },
    {
     "name": "stdout",
     "output_type": "stream",
     "text": [
      "{'max_depth': 20, 'max_features': 60, 'min_samples_leaf': 2, 'n_estimators': 6}\n"
     ]
    }
   ],
   "source": [
    "random_forest_grid = GridSearchCV(random_forest,random_parameters,verbose=True)\n",
    "\n",
    "random_forest_grid.fit(X_train,y_train)\n",
    "random_forest_grid_soln = random_forest_grid.predict(X_test)\n",
    "\n",
    "print(random_forest_grid.best_params_)"
   ]
  },
  {
   "cell_type": "code",
   "execution_count": 23,
   "metadata": {},
   "outputs": [
    {
     "name": "stdout",
     "output_type": "stream",
     "text": [
      "Accuracy Score After Hypertuning Grid Search for Decision Tree: 0.951005\n"
     ]
    }
   ],
   "source": [
    "print(f\"Accuracy Score After Hypertuning Grid Search for Decision Tree: {round(random_forest_grid.score(X_test,y_test),6)}\")"
   ]
  },
  {
   "cell_type": "markdown",
   "metadata": {},
   "source": [
    "##### Random Forest Random Search"
   ]
  },
  {
   "cell_type": "code",
   "execution_count": 24,
   "metadata": {},
   "outputs": [],
   "source": [
    "random_forest_random = RandomizedSearchCV(random_forest,random_parameters,n_iter=10,cv=5)"
   ]
  },
  {
   "cell_type": "code",
   "execution_count": 25,
   "metadata": {},
   "outputs": [],
   "source": [
    "random_forest_random.fit(X_train, y_train)\n",
    "random_forest_random_soln = random_forest_random.best_params_"
   ]
  },
  {
   "cell_type": "code",
   "execution_count": 26,
   "metadata": {},
   "outputs": [
    {
     "name": "stdout",
     "output_type": "stream",
     "text": [
      "{'n_estimators': 6, 'min_samples_leaf': 2, 'max_features': 40, 'max_depth': 20}\n",
      "Accuracy Score for Random Forest with Random Search: 0.950063\n"
     ]
    }
   ],
   "source": [
    "print(random_forest_random_soln)\n",
    "print(f\"Accuracy Score for Random Forest with Random Search: {round(random_forest_random.score(X_test,y_test),6)}\")"
   ]
  },
  {
   "cell_type": "code",
   "execution_count": 27,
   "metadata": {},
   "outputs": [
    {
     "name": "stdout",
     "output_type": "stream",
     "text": [
      "Confusion Matrix After Hypertuning for Decision Tree\n",
      "[[2984   12]\n",
      " [ 173   15]]\n"
     ]
    }
   ],
   "source": [
    "print(\"Confusion Matrix After Hypertuning for Decision Tree\")\n",
    "print(confusion_matrix(y_test,hyperparameter_grid_results))"
   ]
  },
  {
   "cell_type": "markdown",
   "metadata": {},
   "source": [
    "Hyperparameter tuning with Grid Search is once again slightly more accurate than random search. "
   ]
  },
  {
   "cell_type": "code",
   "execution_count": 28,
   "metadata": {},
   "outputs": [],
   "source": [
    "best_forest_grid = RandomForestClassifier(**random_forest_grid.best_params_)\n",
    "\n",
    "best_forest_grid.fit(X_train, y_train)\n",
    "best_forest_grid_soln = best_forest_grid.predict(X_test)"
   ]
  },
  {
   "cell_type": "code",
   "execution_count": 29,
   "metadata": {},
   "outputs": [],
   "source": [
    "# Accuracy Check"
   ]
  },
  {
   "cell_type": "code",
   "execution_count": 30,
   "metadata": {},
   "outputs": [
    {
     "name": "stdout",
     "output_type": "stream",
     "text": [
      "Confusion Matrix Using Best Parameters\n",
      "[[2987    9]\n",
      " [ 143   45]]\n"
     ]
    }
   ],
   "source": [
    "print(\"Confusion Matrix Using Best Parameters\")\n",
    "print(confusion_matrix(y_test,best_forest_grid_soln))"
   ]
  },
  {
   "cell_type": "code",
   "execution_count": 31,
   "metadata": {},
   "outputs": [
    {
     "name": "stdout",
     "output_type": "stream",
     "text": [
      "=== CLASSIFICATION REPORT ===\n",
      "              precision    recall  f1-score   support\n",
      "\n",
      "           0       0.95      1.00      0.98      2996\n",
      "           1       0.83      0.24      0.37       188\n",
      "\n",
      "    accuracy                           0.95      3184\n",
      "   macro avg       0.89      0.62      0.67      3184\n",
      "weighted avg       0.95      0.95      0.94      3184\n",
      "\n"
     ]
    }
   ],
   "source": [
    "print(\"=== CLASSIFICATION REPORT ===\")\n",
    "print(classification_report(y_test,best_forest_grid_soln))"
   ]
  },
  {
   "cell_type": "markdown",
   "metadata": {},
   "source": [
    "##### Cross-Validation Using Best Parameters from Grid Search"
   ]
  },
  {
   "cell_type": "code",
   "execution_count": 32,
   "metadata": {},
   "outputs": [
    {
     "name": "stdout",
     "output_type": "stream",
     "text": [
      "Cross Validation for Grid Search:\n",
      " [0.61861065 0.61965015 0.56792602 0.63585203 0.5862069  0.61965015\n",
      " 0.56792602 0.58204889 0.65413291 0.58720671 0.58824621 0.65967478\n",
      " 0.57142857 0.64077814 0.69434957 0.6239605  0.55253193 0.64077814\n",
      " 0.64077814 0.63973864 0.65967478 0.64181764 0.64181764 0.67545293\n",
      " 0.58720238]\n"
     ]
    }
   ],
   "source": [
    "cross_validation_score = cross_val_score(best_forest_grid, X_train, y_train, cv=25, scoring=\"balanced_accuracy\")\n",
    "print(f\"Cross Validation for Grid Search:\\n {cross_validation_score}\")"
   ]
  },
  {
   "cell_type": "code",
   "execution_count": null,
   "metadata": {},
   "outputs": [],
   "source": []
  }
 ],
 "metadata": {
  "kernelspec": {
   "display_name": "Python 3",
   "language": "python",
   "name": "python3"
  },
  "language_info": {
   "codemirror_mode": {
    "name": "ipython",
    "version": 3
   },
   "file_extension": ".py",
   "mimetype": "text/x-python",
   "name": "python",
   "nbconvert_exporter": "python",
   "pygments_lexer": "ipython3",
   "version": "3.7.4"
  }
 },
 "nbformat": 4,
 "nbformat_minor": 4
}
