{
 "cells": [
  {
   "cell_type": "markdown",
   "metadata": {},
   "source": [
    "# Question One - Fraud Detection "
   ]
  },
  {
   "cell_type": "markdown",
   "metadata": {},
   "source": [
    "##### Import Required Libraries"
   ]
  },
  {
   "cell_type": "code",
   "execution_count": 1,
   "metadata": {},
   "outputs": [],
   "source": [
    "# Reading / Writing Files\n",
    "import pandas as pd\n",
    "\n",
    "# Preprocessing\n",
    "from sklearn.model_selection import train_test_split\n",
    "\n",
    "# Encoding\n",
    "from sklearn.preprocessing import OneHotEncoder\n",
    "\n",
    "# Models / Functions / Ensembles\n",
    "from sklearn.model_selection import GridSearchCV\n",
    "from sklearn.model_selection import cross_val_score\n",
    "from sklearn.model_selection import RandomizedSearchCV\n",
    "from sklearn.tree import DecisionTreeClassifier\n",
    "from sklearn.ensemble import RandomForestClassifier\n",
    "\n",
    "# Accuracy Metrics\n",
    "from sklearn.metrics import classification_report, confusion_matrix\n",
    "\n",
    "# Miscellaneous\n",
    "import time\n",
    "import warnings\n",
    "warnings.filterwarnings(\"ignore\")"
   ]
  },
  {
   "cell_type": "markdown",
   "metadata": {},
   "source": [
    "##### Load in Data, Create Dataframes and Perform Basic Data Cleaning & Operations"
   ]
  },
  {
   "cell_type": "code",
   "execution_count": 2,
   "metadata": {},
   "outputs": [],
   "source": [
    "insurance_fraud_train_df = pd.read_csv('data/assignment_two/insurance_fraud_train.csv').dropna(axis='columns', how='all')\n",
    "insurance_fraud_test_df = pd.read_csv('data/assignment_two/insurance_fraud_test.csv').dropna(axis='columns', how='all')"
   ]
  },
  {
   "cell_type": "code",
   "execution_count": 3,
   "metadata": {},
   "outputs": [
    {
     "name": "stdout",
     "output_type": "stream",
     "text": [
      "Observations in Train DF: 2999.\n",
      "Observations in Test DF: 12918.\n"
     ]
    },
    {
     "data": {
      "text/html": [
       "<div>\n",
       "<style scoped>\n",
       "    .dataframe tbody tr th:only-of-type {\n",
       "        vertical-align: middle;\n",
       "    }\n",
       "\n",
       "    .dataframe tbody tr th {\n",
       "        vertical-align: top;\n",
       "    }\n",
       "\n",
       "    .dataframe thead th {\n",
       "        text-align: right;\n",
       "    }\n",
       "</style>\n",
       "<table border=\"1\" class=\"dataframe\">\n",
       "  <thead>\n",
       "    <tr style=\"text-align: right;\">\n",
       "      <th></th>\n",
       "      <th>MONTH</th>\n",
       "      <th>WEEKOFMONTH</th>\n",
       "      <th>DAYOFWEEK</th>\n",
       "      <th>MAKE</th>\n",
       "      <th>ACCIDENTAREA</th>\n",
       "      <th>DAYOFWEEKCLAIMED</th>\n",
       "      <th>MONTHCLAIMED</th>\n",
       "      <th>WEEKOFMONTHCLAIMED</th>\n",
       "      <th>SEX</th>\n",
       "      <th>MARITALSTATUS</th>\n",
       "      <th>...</th>\n",
       "      <th>AGEOFPOLICYHOLDER</th>\n",
       "      <th>POLICEREPORTFILED</th>\n",
       "      <th>WITNESSPRESENT</th>\n",
       "      <th>AGENTTYPE</th>\n",
       "      <th>NUMBEROFSUPPLIMENTS</th>\n",
       "      <th>ADDRESSCHANGE_CLAIM</th>\n",
       "      <th>NUMBEROFCARS</th>\n",
       "      <th>YEAR</th>\n",
       "      <th>BASEPOLICY</th>\n",
       "      <th>FRAUDFOUND</th>\n",
       "    </tr>\n",
       "  </thead>\n",
       "  <tbody>\n",
       "    <tr>\n",
       "      <th>0</th>\n",
       "      <td>Jul</td>\n",
       "      <td>3</td>\n",
       "      <td>Sunday</td>\n",
       "      <td>Honda</td>\n",
       "      <td>Rural</td>\n",
       "      <td>Wednesday</td>\n",
       "      <td>Jan</td>\n",
       "      <td>4</td>\n",
       "      <td>Male</td>\n",
       "      <td>Married</td>\n",
       "      <td>...</td>\n",
       "      <td>26_to_30</td>\n",
       "      <td>No</td>\n",
       "      <td>No</td>\n",
       "      <td>External</td>\n",
       "      <td>3_to_5</td>\n",
       "      <td>no_change</td>\n",
       "      <td>1-vehicle</td>\n",
       "      <td>1994</td>\n",
       "      <td>Collision</td>\n",
       "      <td>Yes</td>\n",
       "    </tr>\n",
       "  </tbody>\n",
       "</table>\n",
       "<p>1 rows × 32 columns</p>\n",
       "</div>"
      ],
      "text/plain": [
       "  MONTH  WEEKOFMONTH DAYOFWEEK   MAKE ACCIDENTAREA DAYOFWEEKCLAIMED  \\\n",
       "0   Jul            3    Sunday  Honda        Rural        Wednesday   \n",
       "\n",
       "  MONTHCLAIMED  WEEKOFMONTHCLAIMED   SEX MARITALSTATUS  ...  \\\n",
       "0          Jan                   4  Male       Married  ...   \n",
       "\n",
       "   AGEOFPOLICYHOLDER POLICEREPORTFILED WITNESSPRESENT AGENTTYPE  \\\n",
       "0           26_to_30                No             No  External   \n",
       "\n",
       "  NUMBEROFSUPPLIMENTS  ADDRESSCHANGE_CLAIM  NUMBEROFCARS  YEAR BASEPOLICY  \\\n",
       "0              3_to_5            no_change     1-vehicle  1994  Collision   \n",
       "\n",
       "  FRAUDFOUND  \n",
       "0        Yes  \n",
       "\n",
       "[1 rows x 32 columns]"
      ]
     },
     "execution_count": 3,
     "metadata": {},
     "output_type": "execute_result"
    }
   ],
   "source": [
    "print(f\"Observations in Train DF: {len(insurance_fraud_train_df)}.\")\n",
    "print(f\"Observations in Test DF: {len(insurance_fraud_test_df)}.\")\n",
    "\n",
    "# Peculiar how the Train DF is like 19% the size of all the data, our model isn't going to be trained very well..\n",
    "# I'm not going to take some creative freedom on this HW..\n",
    "\n",
    "insurance_fraud_train_df.head(1)"
   ]
  },
  {
   "cell_type": "code",
   "execution_count": 4,
   "metadata": {},
   "outputs": [],
   "source": [
    "concat_df = pd.concat([insurance_fraud_train_df,insurance_fraud_test_df])\n",
    "concat_df['FRAUDFOUND'] = concat_df['FRAUDFOUND'].str.replace('No','0').replace('Yes','1')\n",
    "\n",
    "# Clearly based on the information above, \"One-Hot-Encoding\" Will Be Necessary..\n",
    "# Pandas has gotten significantly better at encoding (since Python 3+)\n",
    "# Thus, won't even need to use Sklearn's OneHotEncoding function, just use pd.get_dummies\n",
    "# See below\n",
    "\n",
    "encoding_columns = concat_df.keys().tolist()"
   ]
  },
  {
   "cell_type": "code",
   "execution_count": 5,
   "metadata": {},
   "outputs": [],
   "source": [
    "# Train / Test Split using Sklearn's function.\n",
    "X = concat_df.drop('FRAUDFOUND',axis=1)\n",
    "X_encoded = pd.get_dummies(X, columns=X.keys().tolist())\n",
    "y = concat_df[['FRAUDFOUND']]\n",
    "\n",
    "X_train, X_test, y_train, y_test = train_test_split(X_encoded, y, train_size=0.80, random_state=42)"
   ]
  },
  {
   "cell_type": "markdown",
   "metadata": {},
   "source": [
    "## Create a Model"
   ]
  },
  {
   "cell_type": "markdown",
   "metadata": {},
   "source": [
    "### Sklearn Basic Decision Tree Model"
   ]
  },
  {
   "cell_type": "code",
   "execution_count": 6,
   "metadata": {},
   "outputs": [
    {
     "name": "stdout",
     "output_type": "stream",
     "text": [
      "Accuracy Score for Basic Decision Tree: 0.959171\n",
      "Confusion Matrix for Decision Tree:\n",
      "[[2919   77]\n",
      " [  53  135]]\n"
     ]
    }
   ],
   "source": [
    "decision_tree_model = DecisionTreeClassifier()\n",
    "decision_tree_model.fit(X_train, y_train)\n",
    "X_test_prediction = decision_tree_model.predict(X_test)\n",
    "\n",
    "print(f\"Accuracy Score for Basic Decision Tree: {round(decision_tree_model.score(X_test,y_test),6)}\")\n",
    "\n",
    "print(\"Confusion Matrix for Decision Tree:\")\n",
    "print(confusion_matrix(y_test,X_test_prediction))"
   ]
  },
  {
   "cell_type": "markdown",
   "metadata": {},
   "source": [
    "#####  Hyperparameter Tuning an Sklearn Decision Tree Model"
   ]
  },
  {
   "cell_type": "code",
   "execution_count": 7,
   "metadata": {},
   "outputs": [],
   "source": [
    "parameters = {\n",
    "    'min_samples_split' : [i*5 for i in range(1,20)],\n",
    "    'criterion' : ['gini','entropy'],\n",
    "    'max_leaf_nodes' : [i for i in range(5,10)]\n",
    "}"
   ]
  },
  {
   "cell_type": "markdown",
   "metadata": {},
   "source": [
    "##### Grid Search"
   ]
  },
  {
   "cell_type": "code",
   "execution_count": 8,
   "metadata": {},
   "outputs": [
    {
     "name": "stdout",
     "output_type": "stream",
     "text": [
      "Fitting 5 folds for each of 190 candidates, totalling 950 fits\n"
     ]
    },
    {
     "name": "stderr",
     "output_type": "stream",
     "text": [
      "[Parallel(n_jobs=-1)]: Using backend LokyBackend with 8 concurrent workers.\n",
      "[Parallel(n_jobs=-1)]: Done  34 tasks      | elapsed:    2.1s\n",
      "[Parallel(n_jobs=-1)]: Done 184 tasks      | elapsed:    4.7s\n",
      "[Parallel(n_jobs=-1)]: Done 434 tasks      | elapsed:    9.5s\n",
      "[Parallel(n_jobs=-1)]: Done 784 tasks      | elapsed:   16.1s\n"
     ]
    },
    {
     "name": "stdout",
     "output_type": "stream",
     "text": [
      "Grid Search Optimal Parameters: {'criterion': 'gini', 'max_leaf_nodes': 9, 'min_samples_split': 35}\n"
     ]
    },
    {
     "name": "stderr",
     "output_type": "stream",
     "text": [
      "[Parallel(n_jobs=-1)]: Done 950 out of 950 | elapsed:   19.9s finished\n"
     ]
    }
   ],
   "source": [
    "decision_tree_model_grid = GridSearchCV(decision_tree_model,parameters,n_jobs=-1,verbose=True)\n",
    "decision_tree_model_grid.fit(X_train, y_train)\n",
    "\n",
    "grid_parameter_soln = decision_tree_model_grid.best_params_\n",
    "print(f\"Grid Search Optimal Parameters: {grid_parameter_soln}\")"
   ]
  },
  {
   "cell_type": "markdown",
   "metadata": {},
   "source": [
    "##### Random Search"
   ]
  },
  {
   "cell_type": "code",
   "execution_count": 9,
   "metadata": {},
   "outputs": [
    {
     "name": "stderr",
     "output_type": "stream",
     "text": [
      "[Parallel(n_jobs=-1)]: Using backend LokyBackend with 8 concurrent workers.\n"
     ]
    },
    {
     "name": "stdout",
     "output_type": "stream",
     "text": [
      "Fitting 5 folds for each of 25 candidates, totalling 125 fits\n"
     ]
    },
    {
     "name": "stderr",
     "output_type": "stream",
     "text": [
      "[Parallel(n_jobs=-1)]: Done  52 tasks      | elapsed:    1.0s\n"
     ]
    },
    {
     "name": "stdout",
     "output_type": "stream",
     "text": [
      "Random Search Optimal Parameters: {'min_samples_split': 20, 'max_leaf_nodes': 8, 'criterion': 'gini'}\n"
     ]
    },
    {
     "name": "stderr",
     "output_type": "stream",
     "text": [
      "[Parallel(n_jobs=-1)]: Done 125 out of 125 | elapsed:    2.2s finished\n"
     ]
    }
   ],
   "source": [
    "decision_tree_model_random = RandomizedSearchCV(decision_tree_model,parameters,n_iter=25,cv=5,n_jobs=-1,verbose=True)\n",
    "decision_tree_model_random.fit(X_train, y_train)\n",
    "random_parameter_soln = decision_tree_model_random.best_params_\n",
    "print(f\"Random Search Optimal Parameters: {random_parameter_soln}\")"
   ]
  },
  {
   "cell_type": "markdown",
   "metadata": {},
   "source": [
    "##### Creating Models with Hyperparameter Solutions"
   ]
  },
  {
   "cell_type": "markdown",
   "metadata": {},
   "source": [
    "##### Grid"
   ]
  },
  {
   "cell_type": "code",
   "execution_count": 10,
   "metadata": {},
   "outputs": [],
   "source": [
    "hyperparameter_grid = DecisionTreeClassifier(**grid_parameter_soln)\n",
    "\n",
    "hyperparameter_grid.fit(X_train,y_train)\n",
    "hyperparameter_grid_results = hyperparameter_grid.predict(X_test)"
   ]
  },
  {
   "cell_type": "code",
   "execution_count": 11,
   "metadata": {},
   "outputs": [
    {
     "name": "stdout",
     "output_type": "stream",
     "text": [
      "Accuracy Score After Hypertuning Grid Search for Decision Tree: 0.942211\n"
     ]
    }
   ],
   "source": [
    "print(f\"Accuracy Score After Hypertuning Grid Search for Decision Tree: {round(hyperparameter_grid.score(X_test,y_test),6)}\")"
   ]
  },
  {
   "cell_type": "markdown",
   "metadata": {},
   "source": [
    "##### Random"
   ]
  },
  {
   "cell_type": "code",
   "execution_count": 12,
   "metadata": {},
   "outputs": [],
   "source": [
    "hyperparameter_random = DecisionTreeClassifier(**random_parameter_soln)\n",
    "\n",
    "hyperparameter_random.fit(X_train,y_train)\n",
    "hyperparameter_random_results = hyperparameter_random.predict(X_test)"
   ]
  },
  {
   "cell_type": "code",
   "execution_count": 13,
   "metadata": {},
   "outputs": [
    {
     "name": "stdout",
     "output_type": "stream",
     "text": [
      "Accuracy Score After Hypertuning Random Search for Decision Tree: 0.942211\n"
     ]
    }
   ],
   "source": [
    "print(f\"Accuracy Score After Hypertuning Random Search for Decision Tree: {round(hyperparameter_random.score(X_test,y_test),6)}\")"
   ]
  },
  {
   "cell_type": "markdown",
   "metadata": {},
   "source": [
    "Hyperparameter tuning with Grid Search produced marginally better results than random search results.\n",
    "This is to be expected, as Grid Search will produce more accurate results at the expense of additional resources (time). Let's see the results of Hyperparameter Tuning a Decision Tree using Grid Search."
   ]
  },
  {
   "cell_type": "markdown",
   "metadata": {},
   "source": [
    "##### Using Optimal Parameters"
   ]
  },
  {
   "cell_type": "code",
   "execution_count": 14,
   "metadata": {},
   "outputs": [
    {
     "name": "stdout",
     "output_type": "stream",
     "text": [
      "=== Confusion Matrix After Hypertuning for Decision Tree ===\n",
      "[[2990    6]\n",
      " [ 178   10]]\n"
     ]
    }
   ],
   "source": [
    "print(\"=== Confusion Matrix After Hypertuning for Decision Tree ===\")\n",
    "print(confusion_matrix(y_test,hyperparameter_grid_results))"
   ]
  },
  {
   "cell_type": "code",
   "execution_count": 15,
   "metadata": {},
   "outputs": [
    {
     "name": "stdout",
     "output_type": "stream",
     "text": [
      "=== CLASSIFICATION REPORT ===\n",
      "              precision    recall  f1-score   support\n",
      "\n",
      "           0       0.94      1.00      0.97      2996\n",
      "           1       0.62      0.05      0.10       188\n",
      "\n",
      "    accuracy                           0.94      3184\n",
      "   macro avg       0.78      0.53      0.53      3184\n",
      "weighted avg       0.92      0.94      0.92      3184\n",
      "\n"
     ]
    }
   ],
   "source": [
    "print(\"=== CLASSIFICATION REPORT ===\")\n",
    "print(classification_report(y_test,hyperparameter_grid_results))"
   ]
  },
  {
   "cell_type": "markdown",
   "metadata": {},
   "source": [
    "##### Cross Validation for Hyperparameterized Grid Search"
   ]
  },
  {
   "cell_type": "code",
   "execution_count": 16,
   "metadata": {},
   "outputs": [
    {
     "name": "stdout",
     "output_type": "stream",
     "text": [
      "Cross Validation for Grid Search:\n",
      " [0.54860563 0.53448276 0.51724138 0.55172414 0.53448276 0.53448276\n",
      " 0.51724138 0.53344326 0.53467478 0.497921   0.51785714 0.55357143\n",
      " 0.51681764 0.53571429 0.55357143 0.53467478 0.51785714 0.55357143\n",
      " 0.55149243 0.54837392 0.51681764 0.53467478 0.51681764 0.55357143\n",
      " 0.51515805]\n"
     ]
    }
   ],
   "source": [
    "classifier_cross_validation_score = cross_val_score(hyperparameter_grid, X_train, y_train, cv=25, scoring=\"balanced_accuracy\")\n",
    "print(f\"Cross Validation for Grid Search:\\n {classifier_cross_validation_score}\")"
   ]
  },
  {
   "cell_type": "markdown",
   "metadata": {},
   "source": [
    "### Random Forest Modeling"
   ]
  },
  {
   "cell_type": "markdown",
   "metadata": {},
   "source": [
    "##### Sklearn Basic Random Forest Model"
   ]
  },
  {
   "cell_type": "code",
   "execution_count": 17,
   "metadata": {},
   "outputs": [],
   "source": [
    "random_forest = RandomForestClassifier()"
   ]
  },
  {
   "cell_type": "code",
   "execution_count": 18,
   "metadata": {},
   "outputs": [],
   "source": [
    "random_forest.fit(X_train, y_train)\n",
    "random_forest_soln = random_forest.predict(X_test)"
   ]
  },
  {
   "cell_type": "code",
   "execution_count": 19,
   "metadata": {},
   "outputs": [
    {
     "name": "stdout",
     "output_type": "stream",
     "text": [
      "Accuracy Score for Default Random Forest: 0.979271\n"
     ]
    }
   ],
   "source": [
    "print(f\"Accuracy Score for Default Random Forest: {round(random_forest.score(X_test,y_test),6)}\")"
   ]
  },
  {
   "cell_type": "code",
   "execution_count": 20,
   "metadata": {},
   "outputs": [
    {
     "name": "stdout",
     "output_type": "stream",
     "text": [
      "=== Confusion Matrix for Default Random Forest ===\n",
      "[[2996    0]\n",
      " [  66  122]]\n"
     ]
    }
   ],
   "source": [
    "print(\"=== Confusion Matrix for Default Random Forest ===\")\n",
    "print(confusion_matrix(y_test,random_forest_soln))"
   ]
  },
  {
   "cell_type": "markdown",
   "metadata": {},
   "source": [
    "##### Random Forest Grid Search"
   ]
  },
  {
   "cell_type": "code",
   "execution_count": 21,
   "metadata": {},
   "outputs": [],
   "source": [
    "random_parameters = {\n",
    "    'min_samples_leaf' : [i for i in range(1,3)],\n",
    "    'max_depth': [i for i in range(20,25)],\n",
    "    'max_features':[i for i in range(15,25)],\n",
    "    'n_estimators':[i for i in range(1,10)]\n",
    "}"
   ]
  },
  {
   "cell_type": "code",
   "execution_count": 22,
   "metadata": {},
   "outputs": [
    {
     "name": "stdout",
     "output_type": "stream",
     "text": [
      "Fitting 5 folds for each of 900 candidates, totalling 4500 fits\n"
     ]
    },
    {
     "name": "stderr",
     "output_type": "stream",
     "text": [
      "[Parallel(n_jobs=-1)]: Using backend LokyBackend with 8 concurrent workers.\n",
      "[Parallel(n_jobs=-1)]: Done  52 tasks      | elapsed:    1.2s\n",
      "[Parallel(n_jobs=-1)]: Done 352 tasks      | elapsed:    9.5s\n",
      "[Parallel(n_jobs=-1)]: Done 852 tasks      | elapsed:   24.5s\n",
      "[Parallel(n_jobs=-1)]: Done 1552 tasks      | elapsed:   45.8s\n",
      "[Parallel(n_jobs=-1)]: Done 2452 tasks      | elapsed:  1.2min\n",
      "[Parallel(n_jobs=-1)]: Done 3552 tasks      | elapsed:  1.8min\n",
      "[Parallel(n_jobs=-1)]: Done 4500 out of 4500 | elapsed:  2.2min finished\n"
     ]
    },
    {
     "name": "stdout",
     "output_type": "stream",
     "text": [
      "{'max_depth': 24, 'max_features': 19, 'min_samples_leaf': 1, 'n_estimators': 8}\n"
     ]
    }
   ],
   "source": [
    "random_forest_grid = GridSearchCV(random_forest,random_parameters,n_jobs=-1,verbose=True)\n",
    "\n",
    "random_forest_grid.fit(X_train,y_train)\n",
    "random_forest_grid_soln = random_forest_grid.predict(X_test)\n",
    "\n",
    "print(random_forest_grid.best_params_)"
   ]
  },
  {
   "cell_type": "code",
   "execution_count": 23,
   "metadata": {},
   "outputs": [
    {
     "name": "stdout",
     "output_type": "stream",
     "text": [
      "Accuracy Score After Hypertuning Grid Search for Decision Tree: 0.967651\n"
     ]
    }
   ],
   "source": [
    "print(f\"Accuracy Score After Hypertuning Grid Search for Decision Tree: {round(random_forest_grid.score(X_test,y_test),6)}\")"
   ]
  },
  {
   "cell_type": "markdown",
   "metadata": {},
   "source": [
    "##### Random Forest Random Search"
   ]
  },
  {
   "cell_type": "code",
   "execution_count": 24,
   "metadata": {},
   "outputs": [],
   "source": [
    "random_forest_random = RandomizedSearchCV(random_forest,random_parameters,n_iter=25,cv=5,n_jobs=-1,verbose=True)"
   ]
  },
  {
   "cell_type": "code",
   "execution_count": 25,
   "metadata": {},
   "outputs": [
    {
     "name": "stdout",
     "output_type": "stream",
     "text": [
      "Fitting 5 folds for each of 25 candidates, totalling 125 fits\n"
     ]
    },
    {
     "name": "stderr",
     "output_type": "stream",
     "text": [
      "[Parallel(n_jobs=-1)]: Using backend LokyBackend with 8 concurrent workers.\n",
      "[Parallel(n_jobs=-1)]: Done  34 tasks      | elapsed:    1.5s\n"
     ]
    },
    {
     "name": "stdout",
     "output_type": "stream",
     "text": [
      "{'n_estimators': 9, 'min_samples_leaf': 1, 'max_features': 16, 'max_depth': 24}\n"
     ]
    },
    {
     "name": "stderr",
     "output_type": "stream",
     "text": [
      "[Parallel(n_jobs=-1)]: Done 125 out of 125 | elapsed:    4.0s finished\n"
     ]
    }
   ],
   "source": [
    "random_forest_random.fit(X_train, y_train)\n",
    "random_forest_random_soln = random_forest_random.best_params_\n",
    "\n",
    "print(random_forest_random_soln)"
   ]
  },
  {
   "cell_type": "code",
   "execution_count": 26,
   "metadata": {},
   "outputs": [
    {
     "name": "stdout",
     "output_type": "stream",
     "text": [
      "Accuracy Score for Random Forest with Random Search: 0.967337\n"
     ]
    }
   ],
   "source": [
    "print(f\"Accuracy Score for Random Forest with Random Search: {round(random_forest_random.score(X_test,y_test),6)}\")"
   ]
  },
  {
   "cell_type": "code",
   "execution_count": 27,
   "metadata": {},
   "outputs": [
    {
     "name": "stdout",
     "output_type": "stream",
     "text": [
      "=== Confusion Matrix After Hypertuning for Decision Tree ===\n",
      "[[2990    6]\n",
      " [ 178   10]]\n"
     ]
    }
   ],
   "source": [
    "print(\"=== Confusion Matrix After Hypertuning for Decision Tree ===\")\n",
    "print(confusion_matrix(y_test,hyperparameter_grid_results))"
   ]
  },
  {
   "cell_type": "markdown",
   "metadata": {},
   "source": [
    "Hyperparameter tuning with Grid Search is once again slightly more accurate than random search. "
   ]
  },
  {
   "cell_type": "markdown",
   "metadata": {},
   "source": [
    "##### Using the Best Parameters from GridSearchCV"
   ]
  },
  {
   "cell_type": "code",
   "execution_count": 28,
   "metadata": {},
   "outputs": [],
   "source": [
    "best_forest_grid = RandomForestClassifier(**random_forest_grid.best_params_)\n",
    "\n",
    "best_forest_grid.fit(X_train, y_train)\n",
    "best_forest_grid_soln = best_forest_grid.predict(X_test)"
   ]
  },
  {
   "cell_type": "code",
   "execution_count": 29,
   "metadata": {},
   "outputs": [
    {
     "name": "stdout",
     "output_type": "stream",
     "text": [
      "Accuracy Score for Random Forest with Optimal Grid Search Parameters: 0.968593\n"
     ]
    }
   ],
   "source": [
    "print(f\"Accuracy Score for Random Forest with Optimal Grid Search Parameters: {round(best_forest_grid.score(X_test,y_test),6)}\")"
   ]
  },
  {
   "cell_type": "code",
   "execution_count": 30,
   "metadata": {},
   "outputs": [
    {
     "name": "stdout",
     "output_type": "stream",
     "text": [
      "=== Confusion Matrix Using Best Parameters ===\n",
      "[[2990    6]\n",
      " [  94   94]]\n"
     ]
    }
   ],
   "source": [
    "print(\"=== Confusion Matrix Using Best Parameters ===\")\n",
    "print(confusion_matrix(y_test,best_forest_grid_soln))"
   ]
  },
  {
   "cell_type": "code",
   "execution_count": 31,
   "metadata": {},
   "outputs": [
    {
     "name": "stdout",
     "output_type": "stream",
     "text": [
      "=== CLASSIFICATION REPORT ===\n",
      "              precision    recall  f1-score   support\n",
      "\n",
      "           0       0.97      1.00      0.98      2996\n",
      "           1       0.94      0.50      0.65       188\n",
      "\n",
      "    accuracy                           0.97      3184\n",
      "   macro avg       0.95      0.75      0.82      3184\n",
      "weighted avg       0.97      0.97      0.96      3184\n",
      "\n"
     ]
    }
   ],
   "source": [
    "print(\"=== CLASSIFICATION REPORT ===\")\n",
    "print(classification_report(y_test,best_forest_grid_soln))"
   ]
  },
  {
   "cell_type": "markdown",
   "metadata": {},
   "source": [
    "##### Cross-Validation Using Best Parameters from Grid Search"
   ]
  },
  {
   "cell_type": "code",
   "execution_count": 32,
   "metadata": {},
   "outputs": [
    {
     "name": "stdout",
     "output_type": "stream",
     "text": [
      "Cross Validation for Grid Search:\n",
      " [0.77482257 0.75758119 0.68757617 0.80930533 0.70689655 0.79310345\n",
      " 0.74033981 0.75862069 0.83824621 0.80149243 0.80253193 0.73110336\n",
      " 0.73110336 0.73214286 0.75       0.67857143 0.64285714 0.8739605\n",
      " 0.76785714 0.76681764 0.73110336 0.76577814 0.71324621 0.69538907\n",
      " 0.80930316]\n"
     ]
    }
   ],
   "source": [
    "cross_validation_score = cross_val_score(best_forest_grid, X_train, y_train, cv=25, scoring=\"balanced_accuracy\")\n",
    "print(f\"Cross Validation for Grid Search:\\n {cross_validation_score}\")"
   ]
  }
 ],
 "metadata": {
  "kernelspec": {
   "display_name": "Python 3",
   "language": "python",
   "name": "python3"
  },
  "language_info": {
   "codemirror_mode": {
    "name": "ipython",
    "version": 3
   },
   "file_extension": ".py",
   "mimetype": "text/x-python",
   "name": "python",
   "nbconvert_exporter": "python",
   "pygments_lexer": "ipython3",
   "version": "3.7.6"
  }
 },
 "nbformat": 4,
 "nbformat_minor": 4
}
