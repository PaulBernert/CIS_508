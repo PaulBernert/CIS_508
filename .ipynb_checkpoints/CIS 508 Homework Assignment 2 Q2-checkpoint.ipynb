{
 "cells": [
  {
   "cell_type": "markdown",
   "metadata": {},
   "source": [
    "# Question Two - Bank "
   ]
  },
  {
   "cell_type": "markdown",
   "metadata": {},
   "source": [
    "##### Import Required Libraries"
   ]
  },
  {
   "cell_type": "code",
   "execution_count": 1,
   "metadata": {},
   "outputs": [],
   "source": [
    "# Reading / Writing Files\n",
    "import pandas as pd\n",
    "\n",
    "# Preprocessing\n",
    "from sklearn.model_selection import train_test_split\n",
    "\n",
    "# Encoding\n",
    "from sklearn.preprocessing import OneHotEncoder\n",
    "\n",
    "# Models / Functions / Ensembles\n",
    "from sklearn.model_selection import GridSearchCV\n",
    "from sklearn.model_selection import cross_val_score\n",
    "from sklearn.model_selection import RandomizedSearchCV\n",
    "from sklearn.tree import DecisionTreeClassifier\n",
    "from sklearn.ensemble import RandomForestClassifier\n",
    "\n",
    "# Accuracy Metrics\n",
    "from sklearn.metrics import classification_report, confusion_matrix\n",
    "\n",
    "# Miscellaneous\n",
    "import time\n",
    "import warnings\n",
    "warnings.filterwarnings(\"ignore\")"
   ]
  },
  {
   "cell_type": "markdown",
   "metadata": {},
   "source": [
    "##### Load in Data, Create Dataframes and Perform Basic Data Cleaning & Operations"
   ]
  },
  {
   "cell_type": "code",
   "execution_count": 2,
   "metadata": {},
   "outputs": [],
   "source": [
    "bank_fraud_train_df = pd.read_csv('data/assignment_two/portugese_bank_train.csv').dropna(axis='columns', how='all')\n",
    "bank_fraud_test_df = pd.read_csv('data/assignment_two/portugese_bank_test_one.csv').dropna(axis='columns', how='all')"
   ]
  },
  {
   "cell_type": "code",
   "execution_count": 3,
   "metadata": {},
   "outputs": [
    {
     "name": "stdout",
     "output_type": "stream",
     "text": [
      "Observations in Train DF: 4521.\n",
      "Observations in Test DF: 45211.\n"
     ]
    },
    {
     "data": {
      "text/html": [
       "<div>\n",
       "<style scoped>\n",
       "    .dataframe tbody tr th:only-of-type {\n",
       "        vertical-align: middle;\n",
       "    }\n",
       "\n",
       "    .dataframe tbody tr th {\n",
       "        vertical-align: top;\n",
       "    }\n",
       "\n",
       "    .dataframe thead th {\n",
       "        text-align: right;\n",
       "    }\n",
       "</style>\n",
       "<table border=\"1\" class=\"dataframe\">\n",
       "  <thead>\n",
       "    <tr style=\"text-align: right;\">\n",
       "      <th></th>\n",
       "      <th>age</th>\n",
       "      <th>balance</th>\n",
       "      <th>duration</th>\n",
       "      <th>job</th>\n",
       "      <th>marital</th>\n",
       "      <th>education</th>\n",
       "      <th>default</th>\n",
       "      <th>housing</th>\n",
       "      <th>loan</th>\n",
       "      <th>contact</th>\n",
       "      <th>day</th>\n",
       "      <th>month</th>\n",
       "      <th>campaign</th>\n",
       "      <th>pdays</th>\n",
       "      <th>previous</th>\n",
       "      <th>poutcome</th>\n",
       "      <th>y</th>\n",
       "    </tr>\n",
       "  </thead>\n",
       "  <tbody>\n",
       "    <tr>\n",
       "      <th>0</th>\n",
       "      <td>30</td>\n",
       "      <td>1787</td>\n",
       "      <td>79</td>\n",
       "      <td>unemployed</td>\n",
       "      <td>married</td>\n",
       "      <td>primary</td>\n",
       "      <td>no</td>\n",
       "      <td>no</td>\n",
       "      <td>no</td>\n",
       "      <td>cellular</td>\n",
       "      <td>19</td>\n",
       "      <td>oct</td>\n",
       "      <td>1</td>\n",
       "      <td>-1</td>\n",
       "      <td>0</td>\n",
       "      <td>unknown</td>\n",
       "      <td>no</td>\n",
       "    </tr>\n",
       "  </tbody>\n",
       "</table>\n",
       "</div>"
      ],
      "text/plain": [
       "   age  balance  duration         job  marital education default housing loan  \\\n",
       "0   30     1787        79  unemployed  married   primary      no      no   no   \n",
       "\n",
       "    contact  day month  campaign  pdays  previous poutcome   y  \n",
       "0  cellular   19   oct         1     -1         0  unknown  no  "
      ]
     },
     "execution_count": 3,
     "metadata": {},
     "output_type": "execute_result"
    }
   ],
   "source": [
    "print(f\"Observations in Train DF: {len(bank_fraud_train_df)}.\")\n",
    "print(f\"Observations in Test DF: {len(bank_fraud_test_df)}.\")\n",
    "\n",
    "# Again, the training dataset is much smaller than the test dataset.\n",
    "# Going to go ahead and do my own splits to improve accuracy..\n",
    "\n",
    "bank_fraud_train_df.head(1)"
   ]
  },
  {
   "cell_type": "code",
   "execution_count": 4,
   "metadata": {},
   "outputs": [],
   "source": [
    "concat_df = pd.concat([bank_fraud_train_df,bank_fraud_test_df])\n",
    "concat_df['y'] = concat_df['y'].str.replace('no','0').replace('yes','1')\n",
    "\n",
    "# Clearly based on the information above, \"One-Hot-Encoding\" Will Be Necessary..\n",
    "# Pandas has gotten significantly better at encoding (since Python 3+)\n",
    "# Thus, won't even need to use Sklearn's OneHotEncoding function, just use pd.get_dummies\n",
    "# See below\n",
    "\n",
    "encoding_columns = concat_df.keys().tolist()"
   ]
  },
  {
   "cell_type": "code",
   "execution_count": 5,
   "metadata": {},
   "outputs": [],
   "source": [
    "# Train / Test Split using Sklearn's function.\n",
    "X = concat_df.drop('y',axis=1)\n",
    "\n",
    "X_non_encoded = X.iloc[:,:3]\n",
    "X_encoded = pd.get_dummies(X.iloc[:, 3:], columns=X.iloc[:, 3:].keys().tolist())\n",
    "\n",
    "X_final = pd.concat([X_non_encoded,X_encoded], axis=1)\n",
    "\n",
    "y = concat_df[['y']]\n",
    "\n",
    "X_train, X_test, y_train, y_test = train_test_split(X_final, y, train_size=0.80, random_state=42)"
   ]
  },
  {
   "cell_type": "markdown",
   "metadata": {},
   "source": [
    "## Create a Model"
   ]
  },
  {
   "cell_type": "markdown",
   "metadata": {},
   "source": [
    "### Sklearn Basic Decision Tree Model"
   ]
  },
  {
   "cell_type": "code",
   "execution_count": 6,
   "metadata": {},
   "outputs": [
    {
     "name": "stdout",
     "output_type": "stream",
     "text": [
      "Accuracy Score for Basic Decision Tree: 0.893536\n",
      "Confusion Matrix for Decision Tree:\n",
      "[[8224  550]\n",
      " [ 509  664]]\n"
     ]
    }
   ],
   "source": [
    "decision_tree_model = DecisionTreeClassifier()\n",
    "decision_tree_model.fit(X_train, y_train)\n",
    "X_test_prediction = decision_tree_model.predict(X_test)\n",
    "\n",
    "print(f\"Accuracy Score for Basic Decision Tree: {round(decision_tree_model.score(X_test,y_test),6)}\")\n",
    "\n",
    "print(\"Confusion Matrix for Decision Tree:\")\n",
    "print(confusion_matrix(y_test,X_test_prediction))"
   ]
  },
  {
   "cell_type": "markdown",
   "metadata": {},
   "source": [
    "#####  Hyperparameter Tuning an Sklearn Decision Tree Model"
   ]
  },
  {
   "cell_type": "code",
   "execution_count": 7,
   "metadata": {},
   "outputs": [],
   "source": [
    "parameters = {\n",
    "    'min_samples_split' : [i*5 for i in range(10,20)],\n",
    "    'criterion' : ['gini','entropy'],\n",
    "    'max_leaf_nodes' : [i*5 for i in range(2,6)]\n",
    "}"
   ]
  },
  {
   "cell_type": "markdown",
   "metadata": {},
   "source": [
    "##### Grid Search"
   ]
  },
  {
   "cell_type": "code",
   "execution_count": 8,
   "metadata": {},
   "outputs": [
    {
     "name": "stdout",
     "output_type": "stream",
     "text": [
      "Fitting 5 folds for each of 80 candidates, totalling 400 fits\n"
     ]
    },
    {
     "name": "stderr",
     "output_type": "stream",
     "text": [
      "[Parallel(n_jobs=-1)]: Using backend LokyBackend with 8 concurrent workers.\n",
      "[Parallel(n_jobs=-1)]: Done  34 tasks      | elapsed:    9.8s\n",
      "[Parallel(n_jobs=-1)]: Done 184 tasks      | elapsed:   49.8s\n",
      "[Parallel(n_jobs=-1)]: Done 400 out of 400 | elapsed:  1.8min finished\n"
     ]
    },
    {
     "name": "stdout",
     "output_type": "stream",
     "text": [
      "Grid Search Optimal Parameters: {'criterion': 'gini', 'max_leaf_nodes': 25, 'min_samples_split': 85}\n"
     ]
    }
   ],
   "source": [
    "decision_tree_model_grid = GridSearchCV(decision_tree_model,parameters,n_jobs=-1,verbose=True)\n",
    "decision_tree_model_grid.fit(X_train, y_train)\n",
    "\n",
    "grid_parameter_soln = decision_tree_model_grid.best_params_\n",
    "print(f\"Grid Search Optimal Parameters: {grid_parameter_soln}\")"
   ]
  },
  {
   "cell_type": "markdown",
   "metadata": {},
   "source": [
    "##### Random Search"
   ]
  },
  {
   "cell_type": "code",
   "execution_count": 9,
   "metadata": {},
   "outputs": [
    {
     "name": "stdout",
     "output_type": "stream",
     "text": [
      "Fitting 5 folds for each of 25 candidates, totalling 125 fits\n"
     ]
    },
    {
     "name": "stderr",
     "output_type": "stream",
     "text": [
      "[Parallel(n_jobs=-1)]: Using backend LokyBackend with 8 concurrent workers.\n",
      "[Parallel(n_jobs=-1)]: Done  34 tasks      | elapsed:    9.6s\n",
      "[Parallel(n_jobs=-1)]: Done 125 out of 125 | elapsed:   32.7s finished\n"
     ]
    },
    {
     "name": "stdout",
     "output_type": "stream",
     "text": [
      "Random Search Optimal Parameters: {'min_samples_split': 95, 'max_leaf_nodes': 25, 'criterion': 'gini'}\n"
     ]
    }
   ],
   "source": [
    "decision_tree_model_random = RandomizedSearchCV(decision_tree_model,parameters,n_iter=25,cv=5,n_jobs=-1,verbose=True)\n",
    "decision_tree_model_random.fit(X_train, y_train)\n",
    "random_parameter_soln = decision_tree_model_random.best_params_\n",
    "print(f\"Random Search Optimal Parameters: {random_parameter_soln}\")"
   ]
  },
  {
   "cell_type": "markdown",
   "metadata": {},
   "source": [
    "##### Creating Models with Hyperparameter Solutions"
   ]
  },
  {
   "cell_type": "markdown",
   "metadata": {},
   "source": [
    "##### Grid"
   ]
  },
  {
   "cell_type": "code",
   "execution_count": 10,
   "metadata": {},
   "outputs": [],
   "source": [
    "hyperparameter_grid = DecisionTreeClassifier(**grid_parameter_soln)\n",
    "\n",
    "hyperparameter_grid.fit(X_train,y_train)\n",
    "hyperparameter_grid_results = hyperparameter_grid.predict(X_test)"
   ]
  },
  {
   "cell_type": "code",
   "execution_count": 11,
   "metadata": {},
   "outputs": [
    {
     "name": "stdout",
     "output_type": "stream",
     "text": [
      "Accuracy Score After Hypertuning Grid Search for Decision Tree: 0.902282\n"
     ]
    }
   ],
   "source": [
    "print(f\"Accuracy Score After Hypertuning Grid Search for Decision Tree: {round(hyperparameter_grid.score(X_test,y_test),6)}\")"
   ]
  },
  {
   "cell_type": "markdown",
   "metadata": {},
   "source": [
    "##### Random"
   ]
  },
  {
   "cell_type": "code",
   "execution_count": 12,
   "metadata": {},
   "outputs": [],
   "source": [
    "hyperparameter_random = DecisionTreeClassifier(**random_parameter_soln)\n",
    "\n",
    "hyperparameter_random.fit(X_train,y_train)\n",
    "hyperparameter_random_results = hyperparameter_random.predict(X_test)"
   ]
  },
  {
   "cell_type": "code",
   "execution_count": 13,
   "metadata": {},
   "outputs": [
    {
     "name": "stdout",
     "output_type": "stream",
     "text": [
      "Accuracy Score After Hypertuning Random Search for Decision Tree: 0.902282\n"
     ]
    }
   ],
   "source": [
    "print(f\"Accuracy Score After Hypertuning Random Search for Decision Tree: {round(hyperparameter_random.score(X_test,y_test),6)}\")"
   ]
  },
  {
   "cell_type": "markdown",
   "metadata": {},
   "source": [
    "Hyperparameter tuning with Grid Search produced marginally better results than random search results.\n",
    "This is to be expected, as Grid Search will produce more accurate results at the expense of additional resources (time). Let's see the results of Hyperparameter Tuning a Decision Tree using Grid Search."
   ]
  },
  {
   "cell_type": "markdown",
   "metadata": {},
   "source": [
    "##### Using Optimal Parameters"
   ]
  },
  {
   "cell_type": "code",
   "execution_count": 14,
   "metadata": {},
   "outputs": [
    {
     "name": "stdout",
     "output_type": "stream",
     "text": [
      "=== Confusion Matrix After Hypertuning for Decision Tree ===\n",
      "[[8502  272]\n",
      " [ 700  473]]\n"
     ]
    }
   ],
   "source": [
    "print(\"=== Confusion Matrix After Hypertuning for Decision Tree ===\")\n",
    "print(confusion_matrix(y_test,hyperparameter_grid_results))"
   ]
  },
  {
   "cell_type": "code",
   "execution_count": 15,
   "metadata": {},
   "outputs": [
    {
     "name": "stdout",
     "output_type": "stream",
     "text": [
      "=== CLASSIFICATION REPORT ===\n",
      "              precision    recall  f1-score   support\n",
      "\n",
      "           0       0.92      0.97      0.95      8774\n",
      "           1       0.63      0.40      0.49      1173\n",
      "\n",
      "    accuracy                           0.90      9947\n",
      "   macro avg       0.78      0.69      0.72      9947\n",
      "weighted avg       0.89      0.90      0.89      9947\n",
      "\n"
     ]
    }
   ],
   "source": [
    "print(\"=== CLASSIFICATION REPORT ===\")\n",
    "print(classification_report(y_test,hyperparameter_grid_results))"
   ]
  },
  {
   "cell_type": "markdown",
   "metadata": {},
   "source": [
    "##### Cross Validation for Hyperparameterized Grid Search"
   ]
  },
  {
   "cell_type": "code",
   "execution_count": 16,
   "metadata": {},
   "outputs": [
    {
     "name": "stdout",
     "output_type": "stream",
     "text": [
      "Cross Validation for Grid Search:\n",
      " [0.69513911 0.67161474 0.68525444 0.69509705 0.67916686 0.68165619\n",
      " 0.65370761 0.70628948 0.68987748 0.67450175 0.71045519 0.68513514\n",
      " 0.67980085 0.6715505  0.69751067 0.71358464 0.64992888 0.6814367\n",
      " 0.68136558 0.67916074 0.66522048 0.67759602 0.6901138  0.71232159\n",
      " 0.68255462]\n"
     ]
    }
   ],
   "source": [
    "classifier_cross_validation_score = cross_val_score(hyperparameter_grid, X_train, y_train, cv=25, scoring=\"balanced_accuracy\")\n",
    "print(f\"Cross Validation for Grid Search:\\n {classifier_cross_validation_score}\")"
   ]
  },
  {
   "cell_type": "markdown",
   "metadata": {},
   "source": [
    "### Random Forest Modeling"
   ]
  },
  {
   "cell_type": "markdown",
   "metadata": {},
   "source": [
    "##### Sklearn Basic Random Forest Model"
   ]
  },
  {
   "cell_type": "code",
   "execution_count": 17,
   "metadata": {},
   "outputs": [],
   "source": [
    "random_forest = RandomForestClassifier()"
   ]
  },
  {
   "cell_type": "code",
   "execution_count": 18,
   "metadata": {},
   "outputs": [],
   "source": [
    "random_forest.fit(X_train, y_train)\n",
    "random_forest_soln = random_forest.predict(X_test)"
   ]
  },
  {
   "cell_type": "code",
   "execution_count": 19,
   "metadata": {},
   "outputs": [
    {
     "name": "stdout",
     "output_type": "stream",
     "text": [
      "Accuracy Score for Default Random Forest: 0.913441\n"
     ]
    }
   ],
   "source": [
    "print(f\"Accuracy Score for Default Random Forest: {round(random_forest.score(X_test,y_test),6)}\")"
   ]
  },
  {
   "cell_type": "code",
   "execution_count": 20,
   "metadata": {},
   "outputs": [
    {
     "name": "stdout",
     "output_type": "stream",
     "text": [
      "=== Confusion Matrix for Default Random Forest ===\n",
      "[[8664  110]\n",
      " [ 751  422]]\n"
     ]
    }
   ],
   "source": [
    "print(\"=== Confusion Matrix for Default Random Forest ===\")\n",
    "print(confusion_matrix(y_test,random_forest_soln))"
   ]
  },
  {
   "cell_type": "markdown",
   "metadata": {},
   "source": [
    "##### Random Forest Grid Search"
   ]
  },
  {
   "cell_type": "code",
   "execution_count": 21,
   "metadata": {},
   "outputs": [],
   "source": [
    "random_parameters = {\n",
    "    'min_samples_leaf' : [i for i in range(1,2)],\n",
    "    'max_depth': [i*5 for i in range(3,5)],\n",
    "    'max_features':[i*5 for i in range(3,5)],\n",
    "    'n_estimators':[i for i in range(2,6)]\n",
    "}"
   ]
  },
  {
   "cell_type": "code",
   "execution_count": 22,
   "metadata": {},
   "outputs": [
    {
     "name": "stdout",
     "output_type": "stream",
     "text": [
      "Fitting 5 folds for each of 16 candidates, totalling 80 fits\n"
     ]
    },
    {
     "name": "stderr",
     "output_type": "stream",
     "text": [
      "[Parallel(n_jobs=-1)]: Using backend LokyBackend with 8 concurrent workers.\n",
      "[Parallel(n_jobs=-1)]: Done  34 tasks      | elapsed:    4.7s\n",
      "[Parallel(n_jobs=-1)]: Done  80 out of  80 | elapsed:   11.0s finished\n"
     ]
    },
    {
     "name": "stdout",
     "output_type": "stream",
     "text": [
      "{'max_depth': 20, 'max_features': 20, 'min_samples_leaf': 1, 'n_estimators': 5}\n"
     ]
    }
   ],
   "source": [
    "random_forest_grid = GridSearchCV(random_forest,random_parameters,n_jobs=-1,verbose=True)\n",
    "\n",
    "random_forest_grid.fit(X_train,y_train)\n",
    "random_forest_grid_soln = random_forest_grid.predict(X_test)\n",
    "\n",
    "print(random_forest_grid.best_params_)"
   ]
  },
  {
   "cell_type": "code",
   "execution_count": 23,
   "metadata": {},
   "outputs": [
    {
     "name": "stdout",
     "output_type": "stream",
     "text": [
      "Accuracy Score After Hypertuning Grid Search for Decision Tree: 0.896451\n"
     ]
    }
   ],
   "source": [
    "print(f\"Accuracy Score After Hypertuning Grid Search for Decision Tree: {round(random_forest_grid.score(X_test,y_test),6)}\")"
   ]
  },
  {
   "cell_type": "markdown",
   "metadata": {},
   "source": [
    "##### Random Forest Random Search"
   ]
  },
  {
   "cell_type": "code",
   "execution_count": 24,
   "metadata": {},
   "outputs": [],
   "source": [
    "random_forest_random = RandomizedSearchCV(random_forest,random_parameters,n_iter=25,cv=5,n_jobs=-1,verbose=True)"
   ]
  },
  {
   "cell_type": "code",
   "execution_count": 25,
   "metadata": {},
   "outputs": [
    {
     "name": "stdout",
     "output_type": "stream",
     "text": [
      "Fitting 5 folds for each of 16 candidates, totalling 80 fits\n"
     ]
    },
    {
     "name": "stderr",
     "output_type": "stream",
     "text": [
      "[Parallel(n_jobs=-1)]: Using backend LokyBackend with 8 concurrent workers.\n",
      "[Parallel(n_jobs=-1)]: Done  34 tasks      | elapsed:    4.7s\n",
      "[Parallel(n_jobs=-1)]: Done  80 out of  80 | elapsed:   11.0s finished\n"
     ]
    },
    {
     "name": "stdout",
     "output_type": "stream",
     "text": [
      "{'n_estimators': 5, 'min_samples_leaf': 1, 'max_features': 20, 'max_depth': 20}\n"
     ]
    }
   ],
   "source": [
    "random_forest_random.fit(X_train, y_train)\n",
    "random_forest_random_soln = random_forest_random.best_params_\n",
    "\n",
    "print(random_forest_random_soln)"
   ]
  },
  {
   "cell_type": "code",
   "execution_count": 26,
   "metadata": {},
   "outputs": [
    {
     "name": "stdout",
     "output_type": "stream",
     "text": [
      "Accuracy Score for Random Forest with Random Search: 0.892832\n"
     ]
    }
   ],
   "source": [
    "print(f\"Accuracy Score for Random Forest with Random Search: {round(random_forest_random.score(X_test,y_test),6)}\")"
   ]
  },
  {
   "cell_type": "code",
   "execution_count": 27,
   "metadata": {},
   "outputs": [
    {
     "name": "stdout",
     "output_type": "stream",
     "text": [
      "=== Confusion Matrix After Hypertuning for Decision Tree ===\n",
      "[[8502  272]\n",
      " [ 700  473]]\n"
     ]
    }
   ],
   "source": [
    "print(\"=== Confusion Matrix After Hypertuning for Decision Tree ===\")\n",
    "print(confusion_matrix(y_test,hyperparameter_grid_results))"
   ]
  },
  {
   "cell_type": "markdown",
   "metadata": {},
   "source": [
    "Hyperparameter tuning with Grid Search is once again slightly more accurate than random search. "
   ]
  },
  {
   "cell_type": "markdown",
   "metadata": {},
   "source": [
    "##### Using the Best Parameters from GridSearchCV"
   ]
  },
  {
   "cell_type": "code",
   "execution_count": 28,
   "metadata": {},
   "outputs": [],
   "source": [
    "best_forest_grid = RandomForestClassifier(**random_forest_grid.best_params_)\n",
    "\n",
    "best_forest_grid.fit(X_train, y_train)\n",
    "best_forest_grid_soln = best_forest_grid.predict(X_test)"
   ]
  },
  {
   "cell_type": "code",
   "execution_count": 29,
   "metadata": {},
   "outputs": [
    {
     "name": "stdout",
     "output_type": "stream",
     "text": [
      "Accuracy Score for Random Forest with Optimal Grid Search Parameters: 0.892832\n"
     ]
    }
   ],
   "source": [
    "print(f\"Accuracy Score for Random Forest with Optimal Grid Search Parameters: {round(best_forest_grid.score(X_test,y_test),6)}\")"
   ]
  },
  {
   "cell_type": "code",
   "execution_count": 30,
   "metadata": {},
   "outputs": [
    {
     "name": "stdout",
     "output_type": "stream",
     "text": [
      "=== Confusion Matrix Using Best Parameters ===\n",
      "[[8674  100]\n",
      " [ 966  207]]\n"
     ]
    }
   ],
   "source": [
    "print(\"=== Confusion Matrix Using Best Parameters ===\")\n",
    "print(confusion_matrix(y_test,best_forest_grid_soln))"
   ]
  },
  {
   "cell_type": "code",
   "execution_count": 31,
   "metadata": {},
   "outputs": [
    {
     "name": "stdout",
     "output_type": "stream",
     "text": [
      "=== CLASSIFICATION REPORT ===\n",
      "              precision    recall  f1-score   support\n",
      "\n",
      "           0       0.90      0.99      0.94      8774\n",
      "           1       0.67      0.18      0.28      1173\n",
      "\n",
      "    accuracy                           0.89      9947\n",
      "   macro avg       0.79      0.58      0.61      9947\n",
      "weighted avg       0.87      0.89      0.86      9947\n",
      "\n"
     ]
    }
   ],
   "source": [
    "print(\"=== CLASSIFICATION REPORT ===\")\n",
    "print(classification_report(y_test,best_forest_grid_soln))"
   ]
  },
  {
   "cell_type": "markdown",
   "metadata": {},
   "source": [
    "##### Cross-Validation Using Best Parameters from Grid Search"
   ]
  },
  {
   "cell_type": "code",
   "execution_count": 32,
   "metadata": {},
   "outputs": [
    {
     "name": "stdout",
     "output_type": "stream",
     "text": [
      "Cross Validation for Grid Search:\n",
      " [0.54447529 0.55218419 0.58175408 0.58139846 0.57871029 0.57495526\n",
      " 0.55862739 0.57744459 0.61796601 0.53514508 0.58655761 0.55213371\n",
      " 0.56671408 0.57681366 0.59466572 0.5883357  0.56493599 0.55789474\n",
      " 0.57375533 0.60981508 0.543101   0.5784495  0.59665718 0.58210691\n",
      " 0.58084223]\n"
     ]
    }
   ],
   "source": [
    "cross_validation_score = cross_val_score(best_forest_grid, X_train, y_train, cv=25, scoring=\"balanced_accuracy\")\n",
    "print(f\"Cross Validation for Grid Search:\\n {cross_validation_score}\")"
   ]
  }
 ],
 "metadata": {
  "kernelspec": {
   "display_name": "Python 3",
   "language": "python",
   "name": "python3"
  },
  "language_info": {
   "codemirror_mode": {
    "name": "ipython",
    "version": 3
   },
   "file_extension": ".py",
   "mimetype": "text/x-python",
   "name": "python",
   "nbconvert_exporter": "python",
   "pygments_lexer": "ipython3",
   "version": "3.7.6"
  }
 },
 "nbformat": 4,
 "nbformat_minor": 4
}
