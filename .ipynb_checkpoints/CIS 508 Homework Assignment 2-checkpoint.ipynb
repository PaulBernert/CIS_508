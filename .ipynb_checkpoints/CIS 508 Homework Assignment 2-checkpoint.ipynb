{
 "cells": [
  {
   "cell_type": "markdown",
   "metadata": {},
   "source": [
    "# Question One - Fraud Detection "
   ]
  },
  {
   "cell_type": "markdown",
   "metadata": {},
   "source": [
    "##### Import Required Libraries"
   ]
  },
  {
   "cell_type": "code",
   "execution_count": 104,
   "metadata": {},
   "outputs": [],
   "source": [
    "import pandas as pd"
   ]
  },
  {
   "cell_type": "markdown",
   "metadata": {},
   "source": [
    "##### Load in Data, Create Dataframes and Perform Basic Data Cleaning"
   ]
  },
  {
   "cell_type": "code",
   "execution_count": 105,
   "metadata": {},
   "outputs": [],
   "source": [
    "insurance_fraud_train_df = pd.read_csv('data/assignment_two/insurance_fraud_train.csv').dropna(axis='columns', how='all')\n",
    "insurance_fraud_test_df = pd.read_csv('data/assignment_two/insurance_fraud_test.csv').dropna(axis='columns', how='all')"
   ]
  },
  {
   "cell_type": "code",
   "execution_count": 106,
   "metadata": {},
   "outputs": [
    {
     "name": "stdout",
     "output_type": "stream",
     "text": [
      "Length of Train DF: 2999.\n",
      "Length of Test DF: 12918.\n"
     ]
    },
    {
     "data": {
      "text/html": [
       "<div>\n",
       "<style scoped>\n",
       "    .dataframe tbody tr th:only-of-type {\n",
       "        vertical-align: middle;\n",
       "    }\n",
       "\n",
       "    .dataframe tbody tr th {\n",
       "        vertical-align: top;\n",
       "    }\n",
       "\n",
       "    .dataframe thead th {\n",
       "        text-align: right;\n",
       "    }\n",
       "</style>\n",
       "<table border=\"1\" class=\"dataframe\">\n",
       "  <thead>\n",
       "    <tr style=\"text-align: right;\">\n",
       "      <th></th>\n",
       "      <th>MONTH</th>\n",
       "      <th>WEEKOFMONTH</th>\n",
       "      <th>DAYOFWEEK</th>\n",
       "      <th>MAKE</th>\n",
       "      <th>ACCIDENTAREA</th>\n",
       "      <th>DAYOFWEEKCLAIMED</th>\n",
       "      <th>MONTHCLAIMED</th>\n",
       "      <th>WEEKOFMONTHCLAIMED</th>\n",
       "      <th>SEX</th>\n",
       "      <th>MARITALSTATUS</th>\n",
       "      <th>...</th>\n",
       "      <th>AGEOFPOLICYHOLDER</th>\n",
       "      <th>POLICEREPORTFILED</th>\n",
       "      <th>WITNESSPRESENT</th>\n",
       "      <th>AGENTTYPE</th>\n",
       "      <th>NUMBEROFSUPPLIMENTS</th>\n",
       "      <th>ADDRESSCHANGE_CLAIM</th>\n",
       "      <th>NUMBEROFCARS</th>\n",
       "      <th>YEAR</th>\n",
       "      <th>BASEPOLICY</th>\n",
       "      <th>FRAUDFOUND</th>\n",
       "    </tr>\n",
       "  </thead>\n",
       "  <tbody>\n",
       "    <tr>\n",
       "      <td>0</td>\n",
       "      <td>Jul</td>\n",
       "      <td>3</td>\n",
       "      <td>Sunday</td>\n",
       "      <td>Honda</td>\n",
       "      <td>Rural</td>\n",
       "      <td>Wednesday</td>\n",
       "      <td>Jan</td>\n",
       "      <td>4</td>\n",
       "      <td>Male</td>\n",
       "      <td>Married</td>\n",
       "      <td>...</td>\n",
       "      <td>26_to_30</td>\n",
       "      <td>No</td>\n",
       "      <td>No</td>\n",
       "      <td>External</td>\n",
       "      <td>3_to_5</td>\n",
       "      <td>no_change</td>\n",
       "      <td>1-vehicle</td>\n",
       "      <td>1994</td>\n",
       "      <td>Collision</td>\n",
       "      <td>Yes</td>\n",
       "    </tr>\n",
       "  </tbody>\n",
       "</table>\n",
       "<p>1 rows × 32 columns</p>\n",
       "</div>"
      ],
      "text/plain": [
       "  MONTH  WEEKOFMONTH DAYOFWEEK   MAKE ACCIDENTAREA DAYOFWEEKCLAIMED  \\\n",
       "0   Jul            3    Sunday  Honda        Rural        Wednesday   \n",
       "\n",
       "  MONTHCLAIMED  WEEKOFMONTHCLAIMED   SEX MARITALSTATUS  ...  \\\n",
       "0          Jan                   4  Male       Married  ...   \n",
       "\n",
       "   AGEOFPOLICYHOLDER POLICEREPORTFILED WITNESSPRESENT AGENTTYPE  \\\n",
       "0           26_to_30                No             No  External   \n",
       "\n",
       "  NUMBEROFSUPPLIMENTS  ADDRESSCHANGE_CLAIM  NUMBEROFCARS  YEAR BASEPOLICY  \\\n",
       "0              3_to_5            no_change     1-vehicle  1994  Collision   \n",
       "\n",
       "  FRAUDFOUND  \n",
       "0        Yes  \n",
       "\n",
       "[1 rows x 32 columns]"
      ]
     },
     "execution_count": 106,
     "metadata": {},
     "output_type": "execute_result"
    }
   ],
   "source": [
    "print(f\"Length of Train DF: {len(insurance_fraud_train_df)}.\")\n",
    "print(f\"Length of Test DF: {len(insurance_fraud_test_df)}.\")\n",
    "# Curious how the Train DF is like 19% the size of all the data, almost seems backwards..\n",
    "insurance_fraud_train_df.head(1)"
   ]
  },
  {
   "cell_type": "code",
   "execution_count": 107,
   "metadata": {},
   "outputs": [
    {
     "data": {
      "text/html": [
       "<div>\n",
       "<style scoped>\n",
       "    .dataframe tbody tr th:only-of-type {\n",
       "        vertical-align: middle;\n",
       "    }\n",
       "\n",
       "    .dataframe tbody tr th {\n",
       "        vertical-align: top;\n",
       "    }\n",
       "\n",
       "    .dataframe thead th {\n",
       "        text-align: right;\n",
       "    }\n",
       "</style>\n",
       "<table border=\"1\" class=\"dataframe\">\n",
       "  <thead>\n",
       "    <tr style=\"text-align: right;\">\n",
       "      <th></th>\n",
       "      <th>MONTH</th>\n",
       "      <th>WEEKOFMONTH</th>\n",
       "      <th>DAYOFWEEK</th>\n",
       "      <th>MAKE</th>\n",
       "      <th>ACCIDENTAREA</th>\n",
       "      <th>DAYOFWEEKCLAIMED</th>\n",
       "      <th>MONTHCLAIMED</th>\n",
       "      <th>WEEKOFMONTHCLAIMED</th>\n",
       "      <th>SEX</th>\n",
       "      <th>MARITALSTATUS</th>\n",
       "      <th>...</th>\n",
       "      <th>AGEOFPOLICYHOLDER</th>\n",
       "      <th>POLICEREPORTFILED</th>\n",
       "      <th>WITNESSPRESENT</th>\n",
       "      <th>AGENTTYPE</th>\n",
       "      <th>NUMBEROFSUPPLIMENTS</th>\n",
       "      <th>ADDRESSCHANGE_CLAIM</th>\n",
       "      <th>NUMBEROFCARS</th>\n",
       "      <th>YEAR</th>\n",
       "      <th>BASEPOLICY</th>\n",
       "      <th>FRAUDFOUND</th>\n",
       "    </tr>\n",
       "  </thead>\n",
       "  <tbody>\n",
       "    <tr>\n",
       "      <td>0</td>\n",
       "      <td>Jul</td>\n",
       "      <td>3</td>\n",
       "      <td>Sunday</td>\n",
       "      <td>Honda</td>\n",
       "      <td>Rural</td>\n",
       "      <td>Wednesday</td>\n",
       "      <td>Jan</td>\n",
       "      <td>4</td>\n",
       "      <td>Male</td>\n",
       "      <td>Married</td>\n",
       "      <td>...</td>\n",
       "      <td>26_to_30</td>\n",
       "      <td>No</td>\n",
       "      <td>No</td>\n",
       "      <td>External</td>\n",
       "      <td>3_to_5</td>\n",
       "      <td>no_change</td>\n",
       "      <td>1-vehicle</td>\n",
       "      <td>1994</td>\n",
       "      <td>Collision</td>\n",
       "      <td>Yes</td>\n",
       "    </tr>\n",
       "  </tbody>\n",
       "</table>\n",
       "<p>1 rows × 32 columns</p>\n",
       "</div>"
      ],
      "text/plain": [
       "  MONTH  WEEKOFMONTH DAYOFWEEK   MAKE ACCIDENTAREA DAYOFWEEKCLAIMED  \\\n",
       "0   Jul            3    Sunday  Honda        Rural        Wednesday   \n",
       "\n",
       "  MONTHCLAIMED  WEEKOFMONTHCLAIMED   SEX MARITALSTATUS  ...  \\\n",
       "0          Jan                   4  Male       Married  ...   \n",
       "\n",
       "   AGEOFPOLICYHOLDER POLICEREPORTFILED WITNESSPRESENT AGENTTYPE  \\\n",
       "0           26_to_30                No             No  External   \n",
       "\n",
       "  NUMBEROFSUPPLIMENTS  ADDRESSCHANGE_CLAIM  NUMBEROFCARS  YEAR BASEPOLICY  \\\n",
       "0              3_to_5            no_change     1-vehicle  1994  Collision   \n",
       "\n",
       "  FRAUDFOUND  \n",
       "0        Yes  \n",
       "\n",
       "[1 rows x 32 columns]"
      ]
     },
     "execution_count": 107,
     "metadata": {},
     "output_type": "execute_result"
    }
   ],
   "source": [
    "insurance_fraud_test_df.head(1)"
   ]
  },
  {
   "cell_type": "code",
   "execution_count": 117,
   "metadata": {},
   "outputs": [],
   "source": [
    "# Clearly, \"One-Hot-Encoding\" Will Be Necessary..\n",
    "# Remember that we must first combine the datasets BEFORE encoding, then we can split the datasets again.\n",
    "# Let's concatenate, encode, and re-split:\n",
    "concat_df = pd.concat([insurance_fraud_train_df,insurance_fraud_test_df])"
   ]
  },
  {
   "cell_type": "code",
   "execution_count": 118,
   "metadata": {},
   "outputs": [
    {
     "data": {
      "text/plain": [
       "Index(['MONTH', 'WEEKOFMONTH', 'DAYOFWEEK', 'MAKE', 'ACCIDENTAREA',\n",
       "       'DAYOFWEEKCLAIMED', 'MONTHCLAIMED', 'WEEKOFMONTHCLAIMED', 'SEX',\n",
       "       'MARITALSTATUS', 'AGE', 'FAULT', 'POLICYTYPE', 'VEHICLECATEGORY',\n",
       "       'VEHICLEPRICE', 'REPNUMBER', 'DEDUCTIBLE', 'DRIVERRATING',\n",
       "       'DAYS_POLICY_ACCIDENT', 'DAYS_POLICY_CLAIM', 'PASTNUMBEROFCLAIMS',\n",
       "       'AGEOFVEHICLE', 'AGEOFPOLICYHOLDER', 'POLICEREPORTFILED',\n",
       "       'WITNESSPRESENT', 'AGENTTYPE', 'NUMBEROFSUPPLIMENTS',\n",
       "       'ADDRESSCHANGE_CLAIM', 'NUMBEROFCARS', 'YEAR', 'BASEPOLICY',\n",
       "       'FRAUDFOUND'],\n",
       "      dtype='object')"
      ]
     },
     "execution_count": 118,
     "metadata": {},
     "output_type": "execute_result"
    }
   ],
   "source": [
    "concat_df.keys()"
   ]
  },
  {
   "cell_type": "code",
   "execution_count": 119,
   "metadata": {},
   "outputs": [
    {
     "data": {
      "text/html": [
       "<div>\n",
       "<style scoped>\n",
       "    .dataframe tbody tr th:only-of-type {\n",
       "        vertical-align: middle;\n",
       "    }\n",
       "\n",
       "    .dataframe tbody tr th {\n",
       "        vertical-align: top;\n",
       "    }\n",
       "\n",
       "    .dataframe thead th {\n",
       "        text-align: right;\n",
       "    }\n",
       "</style>\n",
       "<table border=\"1\" class=\"dataframe\">\n",
       "  <thead>\n",
       "    <tr style=\"text-align: right;\">\n",
       "      <th></th>\n",
       "      <th>MONTH</th>\n",
       "      <th>WEEKOFMONTH</th>\n",
       "    </tr>\n",
       "  </thead>\n",
       "  <tbody>\n",
       "    <tr>\n",
       "      <td>0</td>\n",
       "      <td>Jul</td>\n",
       "      <td>3</td>\n",
       "    </tr>\n",
       "    <tr>\n",
       "      <td>1</td>\n",
       "      <td>Nov</td>\n",
       "      <td>5</td>\n",
       "    </tr>\n",
       "    <tr>\n",
       "      <td>2</td>\n",
       "      <td>Jan</td>\n",
       "      <td>1</td>\n",
       "    </tr>\n",
       "    <tr>\n",
       "      <td>3</td>\n",
       "      <td>Dec</td>\n",
       "      <td>1</td>\n",
       "    </tr>\n",
       "    <tr>\n",
       "      <td>4</td>\n",
       "      <td>Dec</td>\n",
       "      <td>5</td>\n",
       "    </tr>\n",
       "    <tr>\n",
       "      <td>...</td>\n",
       "      <td>...</td>\n",
       "      <td>...</td>\n",
       "    </tr>\n",
       "    <tr>\n",
       "      <td>12913</td>\n",
       "      <td>Dec</td>\n",
       "      <td>1</td>\n",
       "    </tr>\n",
       "    <tr>\n",
       "      <td>12914</td>\n",
       "      <td>Oct</td>\n",
       "      <td>2</td>\n",
       "    </tr>\n",
       "    <tr>\n",
       "      <td>12915</td>\n",
       "      <td>Apr</td>\n",
       "      <td>4</td>\n",
       "    </tr>\n",
       "    <tr>\n",
       "      <td>12916</td>\n",
       "      <td>Jun</td>\n",
       "      <td>2</td>\n",
       "    </tr>\n",
       "    <tr>\n",
       "      <td>12917</td>\n",
       "      <td>Jun</td>\n",
       "      <td>2</td>\n",
       "    </tr>\n",
       "  </tbody>\n",
       "</table>\n",
       "<p>15917 rows × 2 columns</p>\n",
       "</div>"
      ],
      "text/plain": [
       "      MONTH  WEEKOFMONTH\n",
       "0       Jul            3\n",
       "1       Nov            5\n",
       "2       Jan            1\n",
       "3       Dec            1\n",
       "4       Dec            5\n",
       "...     ...          ...\n",
       "12913   Dec            1\n",
       "12914   Oct            2\n",
       "12915   Apr            4\n",
       "12916   Jun            2\n",
       "12917   Jun            2\n",
       "\n",
       "[15917 rows x 2 columns]"
      ]
     },
     "execution_count": 119,
     "metadata": {},
     "output_type": "execute_result"
    }
   ],
   "source": [
    "encoding_columns = ['MONTH','WEEKOFMONTH']"
   ]
  },
  {
   "cell_type": "code",
   "execution_count": 120,
   "metadata": {},
   "outputs": [],
   "source": [
    "from sklearn.preprocessing import OneHotEncoder"
   ]
  },
  {
   "cell_type": "code",
   "execution_count": 121,
   "metadata": {},
   "outputs": [],
   "source": [
    "one_hot_encoder = OneHotEncoder()"
   ]
  },
  {
   "cell_type": "code",
   "execution_count": 122,
   "metadata": {},
   "outputs": [],
   "source": [
    "x = one_hot_encoder.fit_transform(concat_df[encoding_columns]).toarray()"
   ]
  },
  {
   "cell_type": "code",
   "execution_count": 123,
   "metadata": {},
   "outputs": [
    {
     "data": {
      "text/plain": [
       "[array(['Apr', 'Aug', 'Dec', 'Feb', 'Jan', 'Jul', 'Jun', 'Mar', 'May',\n",
       "        'Nov', 'Oct', 'Sep'], dtype=object),\n",
       " array([1, 2, 3, 4, 5], dtype=int64)]"
      ]
     },
     "execution_count": 123,
     "metadata": {},
     "output_type": "execute_result"
    }
   ],
   "source": [
    "one_hot_encoder.categories_"
   ]
  },
  {
   "cell_type": "code",
   "execution_count": 129,
   "metadata": {},
   "outputs": [
    {
     "data": {
      "text/plain": [
       "(15917, 17)"
      ]
     },
     "execution_count": 129,
     "metadata": {},
     "output_type": "execute_result"
    }
   ],
   "source": [
    "x.shape"
   ]
  },
  {
   "cell_type": "code",
   "execution_count": null,
   "metadata": {},
   "outputs": [],
   "source": []
  }
 ],
 "metadata": {
  "kernelspec": {
   "display_name": "Python 3",
   "language": "python",
   "name": "python3"
  },
  "language_info": {
   "codemirror_mode": {
    "name": "ipython",
    "version": 3
   },
   "file_extension": ".py",
   "mimetype": "text/x-python",
   "name": "python",
   "nbconvert_exporter": "python",
   "pygments_lexer": "ipython3",
   "version": "3.7.4"
  }
 },
 "nbformat": 4,
 "nbformat_minor": 4
}
