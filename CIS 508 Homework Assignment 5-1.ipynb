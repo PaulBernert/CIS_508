{
 "cells": [
  {
   "cell_type": "markdown",
   "metadata": {},
   "source": [
    "# Problem One - Determining Online Shoppers Purchasing Intention"
   ]
  },
  {
   "cell_type": "markdown",
   "metadata": {},
   "source": [
    "### Import Required Libraries"
   ]
  },
  {
   "cell_type": "code",
   "execution_count": 1,
   "metadata": {},
   "outputs": [],
   "source": [
    "# Reading / Writing Files & Encoding\n",
    "import pandas as pd\n",
    "import numpy as np\n",
    "\n",
    "# Pre-Processing\n",
    "from sklearn.model_selection import train_test_split\n",
    "\n",
    "# Sampling\n",
    "from imblearn.over_sampling import SMOTE\n",
    "\n",
    "# Clustering\n",
    "from sklearn.cluster import KMeans\n",
    "\n",
    "# Feature Selection / Extraction\n",
    "from sklearn.model_selection import train_test_split\n",
    "from mlxtend.feature_selection import SequentialFeatureSelector as SFS\n",
    "from sklearn.feature_selection import chi2, SelectKBest, SelectFromModel\n",
    "from sklearn.feature_extraction.text import CountVectorizer, TfidfTransformer\n",
    "\n",
    "# Ensembles & Functions\n",
    "from vecstack import stacking\n",
    "from sklearn.svm import LinearSVC as svc\n",
    "from sklearn.linear_model import SGDClassifier\n",
    "from sklearn.tree import DecisionTreeClassifier\n",
    "from sklearn.neural_network import MLPClassifier\n",
    "from sklearn.neighbors import KNeighborsClassifier\n",
    "from sklearn.model_selection import RandomizedSearchCV\n",
    "from sklearn.ensemble import GradientBoostingClassifier, RandomForestClassifier\n",
    "\n",
    "# Accuracy\n",
    "from sklearn.metrics import classification_report, confusion_matrix, accuracy_score, silhouette_score\n",
    "\n",
    "# Miscellaneous\n",
    "import warnings\n",
    "import matplotlib.pyplot as plt\n",
    "warnings.filterwarnings(\"ignore\")"
   ]
  },
  {
   "cell_type": "markdown",
   "metadata": {},
   "source": [
    "### Load in Dataset | Perform Basic Preparation"
   ]
  },
  {
   "cell_type": "code",
   "execution_count": 2,
   "metadata": {},
   "outputs": [],
   "source": [
    "df = pd.read_csv(\"./data/assignment_five/online_shoppers_intention.csv\")\n",
    "df['Weekend'] = df['Weekend'].astype(int)\n",
    "\n",
    "df = pd.get_dummies(df[['VisitorType','Month']]).merge(\n",
    "    df, left_index=True, right_index=True).drop(['VisitorType','Month'], axis=1)"
   ]
  },
  {
   "cell_type": "markdown",
   "metadata": {},
   "source": [
    "### Construct a Train-Test Split"
   ]
  },
  {
   "cell_type": "code",
   "execution_count": 3,
   "metadata": {},
   "outputs": [],
   "source": [
    "X_train, X_test, y_train, y_test = train_test_split(df.loc[:, df.columns != 'Revenue'], df['Revenue'], train_size=0.85, random_state=42)"
   ]
  },
  {
   "cell_type": "markdown",
   "metadata": {},
   "source": [
    "# K-Means Clustering"
   ]
  },
  {
   "cell_type": "code",
   "execution_count": 4,
   "metadata": {
    "scrolled": true
   },
   "outputs": [
    {
     "name": "stdout",
     "output_type": "stream",
     "text": [
      "Silhouette Score for 10 Clusters: 0.49137\n",
      "Silhouette Score for 20 Clusters: 0.446808\n",
      "Silhouette Score for 30 Clusters: 0.403592\n",
      "Silhouette Score for 40 Clusters: 0.387498\n"
     ]
    }
   ],
   "source": [
    "# Testing different number of clusters (pseudo hyperparameter tuning)\n",
    "clusters = [i*10 for i in range(1,5)]\n",
    "for c in clusters:\n",
    "    kmeans = KMeans(n_clusters=c, init='random', algorithm='elkan')\n",
    "    kmeans.fit(X_train)\n",
    "    print(f\"Silhouette Score for {c} Clusters: {round(silhouette_score(X_train, kmeans.labels_),6)}\")"
   ]
  },
  {
   "cell_type": "code",
   "execution_count": 5,
   "metadata": {},
   "outputs": [],
   "source": [
    "kmeans = KMeans(n_clusters=30, init='random', algorithm='elkan')\n",
    "kmeans.fit(X_train)\n",
    "predicted_clusters_train = kmeans.predict(X_train)\n",
    "kmeans.fit(X_test)\n",
    "predicted_clusters_test = kmeans.predict(X_test)"
   ]
  },
  {
   "cell_type": "code",
   "execution_count": 6,
   "metadata": {},
   "outputs": [
    {
     "data": {
      "text/html": [
       "<div>\n",
       "<style scoped>\n",
       "    .dataframe tbody tr th:only-of-type {\n",
       "        vertical-align: middle;\n",
       "    }\n",
       "\n",
       "    .dataframe tbody tr th {\n",
       "        vertical-align: top;\n",
       "    }\n",
       "\n",
       "    .dataframe thead th {\n",
       "        text-align: right;\n",
       "    }\n",
       "</style>\n",
       "<table border=\"1\" class=\"dataframe\">\n",
       "  <thead>\n",
       "    <tr style=\"text-align: right;\">\n",
       "      <th></th>\n",
       "      <th>VisitorType_New_Visitor</th>\n",
       "      <th>VisitorType_Other</th>\n",
       "      <th>VisitorType_Returning_Visitor</th>\n",
       "      <th>Month_Aug</th>\n",
       "      <th>Month_Dec</th>\n",
       "      <th>Month_Feb</th>\n",
       "      <th>Month_Jul</th>\n",
       "      <th>Month_June</th>\n",
       "      <th>Month_Mar</th>\n",
       "      <th>Month_May</th>\n",
       "      <th>...</th>\n",
       "      <th>BounceRates</th>\n",
       "      <th>ExitRates</th>\n",
       "      <th>PageValues</th>\n",
       "      <th>SpecialDay</th>\n",
       "      <th>OperatingSystems</th>\n",
       "      <th>Browser</th>\n",
       "      <th>Region</th>\n",
       "      <th>TrafficType</th>\n",
       "      <th>Weekend</th>\n",
       "      <th>Cluster</th>\n",
       "    </tr>\n",
       "  </thead>\n",
       "  <tbody>\n",
       "    <tr>\n",
       "      <th>2498</th>\n",
       "      <td>0</td>\n",
       "      <td>0</td>\n",
       "      <td>1</td>\n",
       "      <td>0</td>\n",
       "      <td>0</td>\n",
       "      <td>0</td>\n",
       "      <td>0</td>\n",
       "      <td>0</td>\n",
       "      <td>0</td>\n",
       "      <td>1</td>\n",
       "      <td>...</td>\n",
       "      <td>0.040000</td>\n",
       "      <td>0.080000</td>\n",
       "      <td>0.0000</td>\n",
       "      <td>0.0</td>\n",
       "      <td>2</td>\n",
       "      <td>2</td>\n",
       "      <td>2</td>\n",
       "      <td>13</td>\n",
       "      <td>0</td>\n",
       "      <td>16</td>\n",
       "    </tr>\n",
       "    <tr>\n",
       "      <th>5431</th>\n",
       "      <td>0</td>\n",
       "      <td>0</td>\n",
       "      <td>1</td>\n",
       "      <td>0</td>\n",
       "      <td>0</td>\n",
       "      <td>0</td>\n",
       "      <td>0</td>\n",
       "      <td>0</td>\n",
       "      <td>0</td>\n",
       "      <td>1</td>\n",
       "      <td>...</td>\n",
       "      <td>0.015385</td>\n",
       "      <td>0.021953</td>\n",
       "      <td>0.0000</td>\n",
       "      <td>0.0</td>\n",
       "      <td>2</td>\n",
       "      <td>2</td>\n",
       "      <td>1</td>\n",
       "      <td>6</td>\n",
       "      <td>1</td>\n",
       "      <td>6</td>\n",
       "    </tr>\n",
       "    <tr>\n",
       "      <th>9471</th>\n",
       "      <td>0</td>\n",
       "      <td>0</td>\n",
       "      <td>1</td>\n",
       "      <td>0</td>\n",
       "      <td>0</td>\n",
       "      <td>0</td>\n",
       "      <td>0</td>\n",
       "      <td>0</td>\n",
       "      <td>0</td>\n",
       "      <td>0</td>\n",
       "      <td>...</td>\n",
       "      <td>0.016667</td>\n",
       "      <td>0.022222</td>\n",
       "      <td>0.0000</td>\n",
       "      <td>0.0</td>\n",
       "      <td>1</td>\n",
       "      <td>2</td>\n",
       "      <td>1</td>\n",
       "      <td>2</td>\n",
       "      <td>1</td>\n",
       "      <td>6</td>\n",
       "    </tr>\n",
       "    <tr>\n",
       "      <th>3753</th>\n",
       "      <td>0</td>\n",
       "      <td>0</td>\n",
       "      <td>1</td>\n",
       "      <td>0</td>\n",
       "      <td>0</td>\n",
       "      <td>0</td>\n",
       "      <td>0</td>\n",
       "      <td>0</td>\n",
       "      <td>0</td>\n",
       "      <td>1</td>\n",
       "      <td>...</td>\n",
       "      <td>0.000000</td>\n",
       "      <td>0.007692</td>\n",
       "      <td>0.0000</td>\n",
       "      <td>0.0</td>\n",
       "      <td>2</td>\n",
       "      <td>2</td>\n",
       "      <td>7</td>\n",
       "      <td>4</td>\n",
       "      <td>1</td>\n",
       "      <td>6</td>\n",
       "    </tr>\n",
       "    <tr>\n",
       "      <th>4122</th>\n",
       "      <td>0</td>\n",
       "      <td>0</td>\n",
       "      <td>1</td>\n",
       "      <td>0</td>\n",
       "      <td>0</td>\n",
       "      <td>0</td>\n",
       "      <td>0</td>\n",
       "      <td>0</td>\n",
       "      <td>0</td>\n",
       "      <td>1</td>\n",
       "      <td>...</td>\n",
       "      <td>0.000000</td>\n",
       "      <td>0.025000</td>\n",
       "      <td>45.4895</td>\n",
       "      <td>0.8</td>\n",
       "      <td>1</td>\n",
       "      <td>1</td>\n",
       "      <td>6</td>\n",
       "      <td>4</td>\n",
       "      <td>0</td>\n",
       "      <td>6</td>\n",
       "    </tr>\n",
       "  </tbody>\n",
       "</table>\n",
       "<p>5 rows × 29 columns</p>\n",
       "</div>"
      ],
      "text/plain": [
       "      VisitorType_New_Visitor  VisitorType_Other  \\\n",
       "2498                        0                  0   \n",
       "5431                        0                  0   \n",
       "9471                        0                  0   \n",
       "3753                        0                  0   \n",
       "4122                        0                  0   \n",
       "\n",
       "      VisitorType_Returning_Visitor  Month_Aug  Month_Dec  Month_Feb  \\\n",
       "2498                              1          0          0          0   \n",
       "5431                              1          0          0          0   \n",
       "9471                              1          0          0          0   \n",
       "3753                              1          0          0          0   \n",
       "4122                              1          0          0          0   \n",
       "\n",
       "      Month_Jul  Month_June  Month_Mar  Month_May  ...  BounceRates  \\\n",
       "2498          0           0          0          1  ...     0.040000   \n",
       "5431          0           0          0          1  ...     0.015385   \n",
       "9471          0           0          0          0  ...     0.016667   \n",
       "3753          0           0          0          1  ...     0.000000   \n",
       "4122          0           0          0          1  ...     0.000000   \n",
       "\n",
       "      ExitRates  PageValues  SpecialDay  OperatingSystems  Browser  Region  \\\n",
       "2498   0.080000      0.0000         0.0                 2        2       2   \n",
       "5431   0.021953      0.0000         0.0                 2        2       1   \n",
       "9471   0.022222      0.0000         0.0                 1        2       1   \n",
       "3753   0.007692      0.0000         0.0                 2        2       7   \n",
       "4122   0.025000     45.4895         0.8                 1        1       6   \n",
       "\n",
       "      TrafficType  Weekend  Cluster  \n",
       "2498           13        0       16  \n",
       "5431            6        1        6  \n",
       "9471            2        1        6  \n",
       "3753            4        1        6  \n",
       "4122            4        0        6  \n",
       "\n",
       "[5 rows x 29 columns]"
      ]
     },
     "execution_count": 6,
     "metadata": {},
     "output_type": "execute_result"
    }
   ],
   "source": [
    "X_train['Cluster'] = predicted_clusters_train\n",
    "X_test['Cluster'] = predicted_clusters_test\n",
    "X_train.head()"
   ]
  },
  {
   "cell_type": "markdown",
   "metadata": {},
   "source": [
    "# Feature Selection"
   ]
  },
  {
   "cell_type": "code",
   "execution_count": 7,
   "metadata": {},
   "outputs": [
    {
     "data": {
      "text/html": [
       "<div>\n",
       "<style scoped>\n",
       "    .dataframe tbody tr th:only-of-type {\n",
       "        vertical-align: middle;\n",
       "    }\n",
       "\n",
       "    .dataframe tbody tr th {\n",
       "        vertical-align: top;\n",
       "    }\n",
       "\n",
       "    .dataframe thead th {\n",
       "        text-align: right;\n",
       "    }\n",
       "</style>\n",
       "<table border=\"1\" class=\"dataframe\">\n",
       "  <thead>\n",
       "    <tr style=\"text-align: right;\">\n",
       "      <th></th>\n",
       "      <th>VisitorType_New_Visitor</th>\n",
       "      <th>VisitorType_Returning_Visitor</th>\n",
       "      <th>Month_Dec</th>\n",
       "      <th>Month_Feb</th>\n",
       "      <th>Month_Mar</th>\n",
       "      <th>Month_May</th>\n",
       "      <th>Month_Nov</th>\n",
       "      <th>Month_Oct</th>\n",
       "      <th>Administrative</th>\n",
       "      <th>Administrative_Duration</th>\n",
       "      <th>Informational</th>\n",
       "      <th>Informational_Duration</th>\n",
       "      <th>ProductRelated</th>\n",
       "      <th>ProductRelated_Duration</th>\n",
       "      <th>BounceRates</th>\n",
       "      <th>ExitRates</th>\n",
       "      <th>PageValues</th>\n",
       "      <th>SpecialDay</th>\n",
       "      <th>Browser</th>\n",
       "      <th>Weekend</th>\n",
       "    </tr>\n",
       "  </thead>\n",
       "  <tbody>\n",
       "    <tr>\n",
       "      <th>2498</th>\n",
       "      <td>0</td>\n",
       "      <td>1</td>\n",
       "      <td>0</td>\n",
       "      <td>0</td>\n",
       "      <td>0</td>\n",
       "      <td>1</td>\n",
       "      <td>0</td>\n",
       "      <td>0</td>\n",
       "      <td>0</td>\n",
       "      <td>0.0</td>\n",
       "      <td>0</td>\n",
       "      <td>0.0</td>\n",
       "      <td>5</td>\n",
       "      <td>42.000000</td>\n",
       "      <td>0.040000</td>\n",
       "      <td>0.080000</td>\n",
       "      <td>0.0000</td>\n",
       "      <td>0.0</td>\n",
       "      <td>2</td>\n",
       "      <td>0</td>\n",
       "    </tr>\n",
       "    <tr>\n",
       "      <th>5431</th>\n",
       "      <td>0</td>\n",
       "      <td>1</td>\n",
       "      <td>0</td>\n",
       "      <td>0</td>\n",
       "      <td>0</td>\n",
       "      <td>1</td>\n",
       "      <td>0</td>\n",
       "      <td>0</td>\n",
       "      <td>0</td>\n",
       "      <td>0.0</td>\n",
       "      <td>0</td>\n",
       "      <td>0.0</td>\n",
       "      <td>28</td>\n",
       "      <td>608.522727</td>\n",
       "      <td>0.015385</td>\n",
       "      <td>0.021953</td>\n",
       "      <td>0.0000</td>\n",
       "      <td>0.0</td>\n",
       "      <td>2</td>\n",
       "      <td>1</td>\n",
       "    </tr>\n",
       "    <tr>\n",
       "      <th>9471</th>\n",
       "      <td>0</td>\n",
       "      <td>1</td>\n",
       "      <td>0</td>\n",
       "      <td>0</td>\n",
       "      <td>0</td>\n",
       "      <td>0</td>\n",
       "      <td>1</td>\n",
       "      <td>0</td>\n",
       "      <td>0</td>\n",
       "      <td>0.0</td>\n",
       "      <td>0</td>\n",
       "      <td>0.0</td>\n",
       "      <td>12</td>\n",
       "      <td>748.250000</td>\n",
       "      <td>0.016667</td>\n",
       "      <td>0.022222</td>\n",
       "      <td>0.0000</td>\n",
       "      <td>0.0</td>\n",
       "      <td>2</td>\n",
       "      <td>1</td>\n",
       "    </tr>\n",
       "    <tr>\n",
       "      <th>3753</th>\n",
       "      <td>0</td>\n",
       "      <td>1</td>\n",
       "      <td>0</td>\n",
       "      <td>0</td>\n",
       "      <td>0</td>\n",
       "      <td>1</td>\n",
       "      <td>0</td>\n",
       "      <td>0</td>\n",
       "      <td>0</td>\n",
       "      <td>0.0</td>\n",
       "      <td>0</td>\n",
       "      <td>0.0</td>\n",
       "      <td>14</td>\n",
       "      <td>655.166667</td>\n",
       "      <td>0.000000</td>\n",
       "      <td>0.007692</td>\n",
       "      <td>0.0000</td>\n",
       "      <td>0.0</td>\n",
       "      <td>2</td>\n",
       "      <td>1</td>\n",
       "    </tr>\n",
       "    <tr>\n",
       "      <th>4122</th>\n",
       "      <td>0</td>\n",
       "      <td>1</td>\n",
       "      <td>0</td>\n",
       "      <td>0</td>\n",
       "      <td>0</td>\n",
       "      <td>1</td>\n",
       "      <td>0</td>\n",
       "      <td>0</td>\n",
       "      <td>0</td>\n",
       "      <td>0.0</td>\n",
       "      <td>0</td>\n",
       "      <td>0.0</td>\n",
       "      <td>8</td>\n",
       "      <td>710.000000</td>\n",
       "      <td>0.000000</td>\n",
       "      <td>0.025000</td>\n",
       "      <td>45.4895</td>\n",
       "      <td>0.8</td>\n",
       "      <td>1</td>\n",
       "      <td>0</td>\n",
       "    </tr>\n",
       "  </tbody>\n",
       "</table>\n",
       "</div>"
      ],
      "text/plain": [
       "      VisitorType_New_Visitor  VisitorType_Returning_Visitor  Month_Dec  \\\n",
       "2498                        0                              1          0   \n",
       "5431                        0                              1          0   \n",
       "9471                        0                              1          0   \n",
       "3753                        0                              1          0   \n",
       "4122                        0                              1          0   \n",
       "\n",
       "      Month_Feb  Month_Mar  Month_May  Month_Nov  Month_Oct  Administrative  \\\n",
       "2498          0          0          1          0          0               0   \n",
       "5431          0          0          1          0          0               0   \n",
       "9471          0          0          0          1          0               0   \n",
       "3753          0          0          1          0          0               0   \n",
       "4122          0          0          1          0          0               0   \n",
       "\n",
       "      Administrative_Duration  Informational  Informational_Duration  \\\n",
       "2498                      0.0              0                     0.0   \n",
       "5431                      0.0              0                     0.0   \n",
       "9471                      0.0              0                     0.0   \n",
       "3753                      0.0              0                     0.0   \n",
       "4122                      0.0              0                     0.0   \n",
       "\n",
       "      ProductRelated  ProductRelated_Duration  BounceRates  ExitRates  \\\n",
       "2498               5                42.000000     0.040000   0.080000   \n",
       "5431              28               608.522727     0.015385   0.021953   \n",
       "9471              12               748.250000     0.016667   0.022222   \n",
       "3753              14               655.166667     0.000000   0.007692   \n",
       "4122               8               710.000000     0.000000   0.025000   \n",
       "\n",
       "      PageValues  SpecialDay  Browser  Weekend  \n",
       "2498      0.0000         0.0        2        0  \n",
       "5431      0.0000         0.0        2        1  \n",
       "9471      0.0000         0.0        2        1  \n",
       "3753      0.0000         0.0        2        1  \n",
       "4122     45.4895         0.8        1        0  "
      ]
     },
     "execution_count": 7,
     "metadata": {},
     "output_type": "execute_result"
    }
   ],
   "source": [
    "selector = SelectKBest(score_func=chi2, k=20)\n",
    "selector.fit_transform(X_train, y_train)\n",
    "cols = selector.get_support(indices=True)\n",
    "\n",
    "selected_features_df = X_train.iloc[:,cols]\n",
    "selected_features_df.head()"
   ]
  },
  {
   "cell_type": "markdown",
   "metadata": {},
   "source": [
    "# Predict Target Value Using Classifiers"
   ]
  },
  {
   "cell_type": "code",
   "execution_count": 8,
   "metadata": {},
   "outputs": [],
   "source": [
    "def accuracy_output(model):\n",
    "    print(\"=== ACCURACY ===\")\n",
    "    print(round(model.score(X_test, y_test),6))"
   ]
  },
  {
   "cell_type": "code",
   "execution_count": 9,
   "metadata": {},
   "outputs": [],
   "source": [
    "def confusion_output(y_test,X_test_prediction):\n",
    "    print(\"=== CONFUSION MATRIX ===\")\n",
    "    print(confusion_matrix(y_test, X_test_prediction))"
   ]
  },
  {
   "cell_type": "markdown",
   "metadata": {},
   "source": [
    "### 1. Decision Tree Classifier"
   ]
  },
  {
   "cell_type": "code",
   "execution_count": 10,
   "metadata": {},
   "outputs": [],
   "source": [
    "decision_tree = DecisionTreeClassifier()\n",
    "decision_tree.fit(X_train, y_train)\n",
    "decision_tree_prediction = decision_tree.predict(X_test)"
   ]
  },
  {
   "cell_type": "code",
   "execution_count": 11,
   "metadata": {},
   "outputs": [
    {
     "name": "stdout",
     "output_type": "stream",
     "text": [
      "=== ACCURACY ===\n",
      "0.860541\n",
      "=== CONFUSION MATRIX ===\n",
      "[[1431  121]\n",
      " [ 137  161]]\n"
     ]
    }
   ],
   "source": [
    "accuracy_output(decision_tree)\n",
    "confusion_output(y_test, decision_tree_prediction)"
   ]
  },
  {
   "cell_type": "markdown",
   "metadata": {},
   "source": [
    "### 2. Random Forest Classifier"
   ]
  },
  {
   "cell_type": "code",
   "execution_count": 12,
   "metadata": {},
   "outputs": [],
   "source": [
    "random_forest = RandomForestClassifier()\n",
    "random_forest.fit(X_train, y_train)\n",
    "random_forest_prediction = random_forest.predict(X_test)"
   ]
  },
  {
   "cell_type": "code",
   "execution_count": 13,
   "metadata": {},
   "outputs": [
    {
     "name": "stdout",
     "output_type": "stream",
     "text": [
      "=== ACCURACY ===\n",
      "0.902162\n",
      "=== CONFUSION MATRIX ===\n",
      "[[1504   48]\n",
      " [ 133  165]]\n"
     ]
    }
   ],
   "source": [
    "accuracy_output(random_forest)\n",
    "confusion_output(y_test, random_forest_prediction)"
   ]
  },
  {
   "cell_type": "markdown",
   "metadata": {},
   "source": [
    "### 2.1 Random Forest Classifier - Hyperparameter Tuning"
   ]
  },
  {
   "cell_type": "code",
   "execution_count": 14,
   "metadata": {},
   "outputs": [],
   "source": [
    "random_parameters = {\n",
    "    'min_samples_leaf' : [i for i in range(1,5)],\n",
    "    'max_depth': [i*5 for i in range(10,20)],\n",
    "    'n_estimators':[i*5 for i in range(5,15)]\n",
    "}"
   ]
  },
  {
   "cell_type": "code",
   "execution_count": 15,
   "metadata": {},
   "outputs": [
    {
     "data": {
      "text/plain": [
       "{'n_estimators': 50, 'min_samples_leaf': 4, 'max_depth': 55}"
      ]
     },
     "execution_count": 15,
     "metadata": {},
     "output_type": "execute_result"
    }
   ],
   "source": [
    "random_forest_random = RandomizedSearchCV(random_forest,random_parameters,n_iter=50,cv=5,n_jobs=-1,verbose=False)\n",
    "random_forest_random.fit(X_train, y_train)\n",
    "random_forest_random_params = random_forest_random.best_params_\n",
    "random_forest_random_params"
   ]
  },
  {
   "cell_type": "code",
   "execution_count": 16,
   "metadata": {},
   "outputs": [],
   "source": [
    "random_forest = RandomForestClassifier(**random_forest_random_params)\n",
    "random_forest.fit(X_train, y_train)\n",
    "random_forest_prediction = random_forest.predict(X_test)"
   ]
  },
  {
   "cell_type": "code",
   "execution_count": 17,
   "metadata": {},
   "outputs": [
    {
     "name": "stdout",
     "output_type": "stream",
     "text": [
      "=== ACCURACY ===\n",
      "0.893514\n",
      "=== CONFUSION MATRIX ===\n",
      "[[1495   57]\n",
      " [ 140  158]]\n"
     ]
    }
   ],
   "source": [
    "accuracy_output(random_forest)\n",
    "confusion_output(y_test, random_forest_prediction)"
   ]
  },
  {
   "cell_type": "markdown",
   "metadata": {},
   "source": [
    "### 3. Linear Support Vector Classifier"
   ]
  },
  {
   "cell_type": "code",
   "execution_count": 18,
   "metadata": {},
   "outputs": [],
   "source": [
    "support_vector_machines = svc()\n",
    "support_vector_machines.fit(X_train, y_train)\n",
    "support_vector_prediction = support_vector_machines.predict(X_test)"
   ]
  },
  {
   "cell_type": "code",
   "execution_count": 19,
   "metadata": {},
   "outputs": [
    {
     "name": "stdout",
     "output_type": "stream",
     "text": [
      "=== ACCURACY ===\n",
      "0.82973\n",
      "=== CONFUSION MATRIX ===\n",
      "[[1499   53]\n",
      " [ 262   36]]\n"
     ]
    }
   ],
   "source": [
    "accuracy_output(support_vector_machines)\n",
    "confusion_output(y_test, support_vector_prediction)"
   ]
  },
  {
   "cell_type": "markdown",
   "metadata": {},
   "source": [
    "### 4. K-Nearest Neighbors Classifier"
   ]
  },
  {
   "cell_type": "code",
   "execution_count": 20,
   "metadata": {},
   "outputs": [],
   "source": [
    "k_neighbors = KNeighborsClassifier()\n",
    "k_neighbors.fit(X_train, y_train)\n",
    "k_neighbors_prediction = k_neighbors.predict(X_test)"
   ]
  },
  {
   "cell_type": "code",
   "execution_count": 21,
   "metadata": {},
   "outputs": [
    {
     "name": "stdout",
     "output_type": "stream",
     "text": [
      "=== ACCURACY ===\n",
      "0.854595\n",
      "=== CONFUSION MATRIX ===\n",
      "[[1505   47]\n",
      " [ 222   76]]\n"
     ]
    }
   ],
   "source": [
    "accuracy_output(k_neighbors)\n",
    "confusion_output(y_test, k_neighbors_prediction)"
   ]
  },
  {
   "cell_type": "markdown",
   "metadata": {},
   "source": [
    "### 5. Multilayer Perceptron Classifier"
   ]
  },
  {
   "cell_type": "code",
   "execution_count": 22,
   "metadata": {},
   "outputs": [],
   "source": [
    "multilayer_perceptron = MLPClassifier()\n",
    "multilayer_perceptron.fit(X_train, y_train)\n",
    "multilayer_perceptron_prediction = multilayer_perceptron.predict(X_test)"
   ]
  },
  {
   "cell_type": "code",
   "execution_count": 23,
   "metadata": {},
   "outputs": [
    {
     "name": "stdout",
     "output_type": "stream",
     "text": [
      "=== ACCURACY ===\n",
      "0.878378\n",
      "=== CONFUSION MATRIX ===\n",
      "[[1524   28]\n",
      " [ 197  101]]\n"
     ]
    }
   ],
   "source": [
    "accuracy_output(multilayer_perceptron)\n",
    "confusion_output(y_test, multilayer_perceptron_prediction)"
   ]
  },
  {
   "cell_type": "markdown",
   "metadata": {},
   "source": [
    "### 5.1 Multilayer Perceptron Classifier - Hyperparameter Tuning"
   ]
  },
  {
   "cell_type": "code",
   "execution_count": 24,
   "metadata": {},
   "outputs": [],
   "source": [
    "m_layer_parameters = {\n",
    "    'activation':['identity', 'logistic', 'tanh', 'relu'],\n",
    "    'learning_rate_init':[i/1000 for i in range(1,5)],\n",
    "    'max_iter':[i*50 for i in range(2,6)],\n",
    "    'tol':[i/10000 for i in range(2,5)]\n",
    "}"
   ]
  },
  {
   "cell_type": "code",
   "execution_count": 25,
   "metadata": {},
   "outputs": [
    {
     "data": {
      "text/plain": [
       "{'tol': 0.0003,\n",
       " 'max_iter': 250,\n",
       " 'learning_rate_init': 0.003,\n",
       " 'activation': 'tanh'}"
      ]
     },
     "execution_count": 25,
     "metadata": {},
     "output_type": "execute_result"
    }
   ],
   "source": [
    "m_layer_random = RandomizedSearchCV(multilayer_perceptron,m_layer_parameters,n_iter=10,cv=5,n_jobs=-1,verbose=False)\n",
    "m_layer_random.fit(X_train,y_train)\n",
    "m_layer_random_params = m_layer_random.best_params_\n",
    "m_layer_random_params"
   ]
  },
  {
   "cell_type": "code",
   "execution_count": 26,
   "metadata": {},
   "outputs": [],
   "source": [
    "multilayer_perceptron = MLPClassifier(**m_layer_random_params)\n",
    "multilayer_perceptron.fit(X_train, y_train)\n",
    "multilayer_perceptron_prediction = multilayer_perceptron.predict(X_test)"
   ]
  },
  {
   "cell_type": "markdown",
   "metadata": {},
   "source": [
    "### 6. Gradient Boosting Classifier"
   ]
  },
  {
   "cell_type": "code",
   "execution_count": 27,
   "metadata": {},
   "outputs": [],
   "source": [
    "gradient_boosting = GradientBoostingClassifier()\n",
    "gradient_boosting.fit(X_train, y_train)\n",
    "gradient_boosting_prediction = gradient_boosting.predict(X_test)"
   ]
  },
  {
   "cell_type": "code",
   "execution_count": 28,
   "metadata": {},
   "outputs": [
    {
     "name": "stdout",
     "output_type": "stream",
     "text": [
      "=== ACCURACY ===\n",
      "0.896757\n",
      "=== CONFUSION MATRIX ===\n",
      "[[1480   72]\n",
      " [ 119  179]]\n"
     ]
    }
   ],
   "source": [
    "accuracy_output(gradient_boosting)\n",
    "confusion_output(y_test, gradient_boosting_prediction)"
   ]
  },
  {
   "cell_type": "markdown",
   "metadata": {},
   "source": [
    "### 6.1 Gradient Boosting Classifier - Hyperparameter Tuning"
   ]
  },
  {
   "cell_type": "code",
   "execution_count": 29,
   "metadata": {},
   "outputs": [],
   "source": [
    "g_boosting_parameters = {\n",
    "    'criterion':['friedman_mse','mse','mae'],\n",
    "    'min_samples_split':[i*2 for i in range(1,5)]\n",
    "}"
   ]
  },
  {
   "cell_type": "code",
   "execution_count": 30,
   "metadata": {},
   "outputs": [
    {
     "data": {
      "text/plain": [
       "{'min_samples_split': 8, 'criterion': 'mse'}"
      ]
     },
     "execution_count": 30,
     "metadata": {},
     "output_type": "execute_result"
    }
   ],
   "source": [
    "g_boosting_random = RandomizedSearchCV(gradient_boosting,g_boosting_parameters,n_iter=5,cv=5,n_jobs=-1,verbose=False)\n",
    "g_boosting_random.fit(X_train,y_train)\n",
    "g_boosting_random_params = g_boosting_random.best_params_\n",
    "g_boosting_random_params"
   ]
  },
  {
   "cell_type": "code",
   "execution_count": 31,
   "metadata": {},
   "outputs": [],
   "source": [
    "gradient_boosting = GradientBoostingClassifier(**g_boosting_random_params)\n",
    "gradient_boosting.fit(X_train, y_train)\n",
    "gradient_boosting_prediction = gradient_boosting.predict(X_test)"
   ]
  },
  {
   "cell_type": "code",
   "execution_count": 32,
   "metadata": {},
   "outputs": [
    {
     "name": "stdout",
     "output_type": "stream",
     "text": [
      "=== ACCURACY ===\n",
      "0.897297\n",
      "=== CONFUSION MATRIX ===\n",
      "[[1481   71]\n",
      " [ 119  179]]\n"
     ]
    }
   ],
   "source": [
    "accuracy_output(gradient_boosting)\n",
    "confusion_output(y_test, gradient_boosting_prediction)"
   ]
  },
  {
   "cell_type": "markdown",
   "metadata": {},
   "source": [
    "### 7. Gradient Descent Classifier"
   ]
  },
  {
   "cell_type": "code",
   "execution_count": 33,
   "metadata": {},
   "outputs": [],
   "source": [
    "gradient_descent = SGDClassifier()\n",
    "gradient_descent.fit(X_train, y_train)\n",
    "gradient_descent_prediction = gradient_descent.predict(X_test)"
   ]
  },
  {
   "cell_type": "code",
   "execution_count": 34,
   "metadata": {},
   "outputs": [
    {
     "name": "stdout",
     "output_type": "stream",
     "text": [
      "=== ACCURACY ===\n",
      "0.859459\n",
      "=== CONFUSION MATRIX ===\n",
      "[[1544    8]\n",
      " [ 252   46]]\n"
     ]
    }
   ],
   "source": [
    "accuracy_output(gradient_descent)\n",
    "confusion_output(y_test, gradient_descent_prediction)"
   ]
  },
  {
   "cell_type": "markdown",
   "metadata": {},
   "source": [
    "### 7.1 Gradient Descent Classifier - Hyperparameter Tuning"
   ]
  },
  {
   "cell_type": "code",
   "execution_count": 35,
   "metadata": {},
   "outputs": [],
   "source": [
    "g_descent_parameters = {\n",
    "    'tol':[i/10000 for i in range(1,5)],\n",
    "    'penalty':['l2', 'l1', 'elasticnet'],\n",
    "    'max_iter':[i*100 for i in range(2,6)]\n",
    "}"
   ]
  },
  {
   "cell_type": "code",
   "execution_count": 36,
   "metadata": {},
   "outputs": [
    {
     "data": {
      "text/plain": [
       "{'tol': 0.0002, 'penalty': 'l1', 'max_iter': 200}"
      ]
     },
     "execution_count": 36,
     "metadata": {},
     "output_type": "execute_result"
    }
   ],
   "source": [
    "g_descent_random = RandomizedSearchCV(gradient_descent, g_descent_parameters, n_iter=50, cv=5, n_jobs=-1, verbose=False)\n",
    "g_descent_random.fit(X_train, y_train)\n",
    "g_descent_random_params = g_descent_random.best_params_\n",
    "g_descent_random_params"
   ]
  },
  {
   "cell_type": "code",
   "execution_count": 37,
   "metadata": {},
   "outputs": [],
   "source": [
    "gradient_descent = SGDClassifier(**g_descent_random_params)\n",
    "gradient_descent.fit(X_train, y_train)\n",
    "gradient_descent_prediction = gradient_descent.predict(X_test)"
   ]
  },
  {
   "cell_type": "code",
   "execution_count": 38,
   "metadata": {},
   "outputs": [
    {
     "name": "stdout",
     "output_type": "stream",
     "text": [
      "=== ACCURACY ===\n",
      "0.875676\n",
      "=== CONFUSION MATRIX ===\n",
      "[[1492   60]\n",
      " [ 170  128]]\n"
     ]
    }
   ],
   "source": [
    "accuracy_output(gradient_descent)\n",
    "confusion_output(y_test, gradient_descent_prediction)"
   ]
  },
  {
   "cell_type": "markdown",
   "metadata": {},
   "source": [
    "# Stacked Model With Hyperparameter Tuning"
   ]
  },
  {
   "cell_type": "code",
   "execution_count": 39,
   "metadata": {},
   "outputs": [],
   "source": [
    "models = [\n",
    "    RandomForestClassifier(**random_forest_random_params),\n",
    "    GradientBoostingClassifier(**g_boosting_random_params),\n",
    "    SGDClassifier(**g_descent_random_params)\n",
    "]\n",
    "\n",
    "stack_train, stack_test = stacking(models,                   \n",
    "    X_train, y_train, df,   \n",
    "    regression=True, \n",
    "    mode='oof_pred_bag', \n",
    "    needs_proba=False,\n",
    "    save_dir=None,\n",
    "    n_folds=10, \n",
    "    stratified=True,\n",
    "    shuffle=True,  \n",
    "    random_state=0)"
   ]
  },
  {
   "cell_type": "code",
   "execution_count": 40,
   "metadata": {},
   "outputs": [
    {
     "data": {
      "text/html": [
       "<div>\n",
       "<style scoped>\n",
       "    .dataframe tbody tr th:only-of-type {\n",
       "        vertical-align: middle;\n",
       "    }\n",
       "\n",
       "    .dataframe tbody tr th {\n",
       "        vertical-align: top;\n",
       "    }\n",
       "\n",
       "    .dataframe thead th {\n",
       "        text-align: right;\n",
       "    }\n",
       "</style>\n",
       "<table border=\"1\" class=\"dataframe\">\n",
       "  <thead>\n",
       "    <tr style=\"text-align: right;\">\n",
       "      <th></th>\n",
       "      <th>r_forest</th>\n",
       "      <th>mlp</th>\n",
       "      <th>g_boost</th>\n",
       "      <th>g_desc</th>\n",
       "    </tr>\n",
       "  </thead>\n",
       "  <tbody>\n",
       "    <tr>\n",
       "      <th>0</th>\n",
       "      <td>False</td>\n",
       "      <td>False</td>\n",
       "      <td>False</td>\n",
       "      <td>False</td>\n",
       "    </tr>\n",
       "    <tr>\n",
       "      <th>1</th>\n",
       "      <td>False</td>\n",
       "      <td>False</td>\n",
       "      <td>False</td>\n",
       "      <td>False</td>\n",
       "    </tr>\n",
       "    <tr>\n",
       "      <th>2</th>\n",
       "      <td>False</td>\n",
       "      <td>False</td>\n",
       "      <td>False</td>\n",
       "      <td>False</td>\n",
       "    </tr>\n",
       "    <tr>\n",
       "      <th>3</th>\n",
       "      <td>False</td>\n",
       "      <td>False</td>\n",
       "      <td>False</td>\n",
       "      <td>False</td>\n",
       "    </tr>\n",
       "    <tr>\n",
       "      <th>4</th>\n",
       "      <td>False</td>\n",
       "      <td>False</td>\n",
       "      <td>False</td>\n",
       "      <td>False</td>\n",
       "    </tr>\n",
       "    <tr>\n",
       "      <th>...</th>\n",
       "      <td>...</td>\n",
       "      <td>...</td>\n",
       "      <td>...</td>\n",
       "      <td>...</td>\n",
       "    </tr>\n",
       "    <tr>\n",
       "      <th>12325</th>\n",
       "      <td>False</td>\n",
       "      <td>False</td>\n",
       "      <td>False</td>\n",
       "      <td>False</td>\n",
       "    </tr>\n",
       "    <tr>\n",
       "      <th>12326</th>\n",
       "      <td>False</td>\n",
       "      <td>False</td>\n",
       "      <td>False</td>\n",
       "      <td>False</td>\n",
       "    </tr>\n",
       "    <tr>\n",
       "      <th>12327</th>\n",
       "      <td>False</td>\n",
       "      <td>False</td>\n",
       "      <td>False</td>\n",
       "      <td>False</td>\n",
       "    </tr>\n",
       "    <tr>\n",
       "      <th>12328</th>\n",
       "      <td>False</td>\n",
       "      <td>False</td>\n",
       "      <td>False</td>\n",
       "      <td>False</td>\n",
       "    </tr>\n",
       "    <tr>\n",
       "      <th>12329</th>\n",
       "      <td>False</td>\n",
       "      <td>False</td>\n",
       "      <td>False</td>\n",
       "      <td>False</td>\n",
       "    </tr>\n",
       "  </tbody>\n",
       "</table>\n",
       "<p>12330 rows × 4 columns</p>\n",
       "</div>"
      ],
      "text/plain": [
       "       r_forest    mlp  g_boost  g_desc\n",
       "0         False  False    False   False\n",
       "1         False  False    False   False\n",
       "2         False  False    False   False\n",
       "3         False  False    False   False\n",
       "4         False  False    False   False\n",
       "...         ...    ...      ...     ...\n",
       "12325     False  False    False   False\n",
       "12326     False  False    False   False\n",
       "12327     False  False    False   False\n",
       "12328     False  False    False   False\n",
       "12329     False  False    False   False\n",
       "\n",
       "[12330 rows x 4 columns]"
      ]
     },
     "execution_count": 40,
     "metadata": {},
     "output_type": "execute_result"
    }
   ],
   "source": [
    "results = {\n",
    "    'r_forest':RandomForestClassifier(**random_forest_random_params).fit(stack_train,y_train).predict(stack_test),\n",
    "    'mlp':MLPClassifier(**m_layer_random_params).fit(stack_train,y_train).predict(stack_test),\n",
    "    'g_boost':GradientBoostingClassifier(**g_boosting_random_params).fit(stack_train,y_train).predict(stack_test),\n",
    "    'g_desc':SGDClassifier(**g_descent_random_params).fit(stack_train,y_train).predict(stack_test)\n",
    "}\n",
    "\n",
    "results_df = pd.DataFrame(data=results)\n",
    "results_df"
   ]
  },
  {
   "cell_type": "markdown",
   "metadata": {},
   "source": [
    "# Accuracy Check"
   ]
  },
  {
   "cell_type": "markdown",
   "metadata": {},
   "source": [
    "### Random Forest Classifier"
   ]
  },
  {
   "cell_type": "code",
   "execution_count": 41,
   "metadata": {},
   "outputs": [
    {
     "name": "stdout",
     "output_type": "stream",
     "text": [
      "Accuracy Score: 0.929035\n",
      "=== CONFUSION MATRIX ===\n",
      "[[10286   136]\n",
      " [  739  1169]]\n"
     ]
    }
   ],
   "source": [
    "print(f\"Accuracy Score: {round(accuracy_score(df['Revenue'], results_df['r_forest']),6)}\")\n",
    "confusion_output(df['Revenue'], results_df['r_forest'])"
   ]
  },
  {
   "cell_type": "markdown",
   "metadata": {},
   "source": [
    "### Multilayer Perceptron"
   ]
  },
  {
   "cell_type": "code",
   "execution_count": 42,
   "metadata": {},
   "outputs": [
    {
     "name": "stdout",
     "output_type": "stream",
     "text": [
      "Accuracy Score: 0.921817\n",
      "=== CONFUSION MATRIX ===\n",
      "[[10045   377]\n",
      " [  587  1321]]\n"
     ]
    }
   ],
   "source": [
    "print(f\"Accuracy Score: {round(accuracy_score(df['Revenue'], results_df['mlp']),6)}\")\n",
    "confusion_output(df['Revenue'], results_df['mlp'])"
   ]
  },
  {
   "cell_type": "markdown",
   "metadata": {},
   "source": [
    "### Gradient Boosting"
   ]
  },
  {
   "cell_type": "code",
   "execution_count": 43,
   "metadata": {},
   "outputs": [
    {
     "name": "stdout",
     "output_type": "stream",
     "text": [
      "Accuracy Score: 0.929035\n",
      "=== CONFUSION MATRIX ===\n",
      "[[10286   136]\n",
      " [  739  1169]]\n"
     ]
    }
   ],
   "source": [
    "print(f\"Accuracy Score: {round(accuracy_score(df['Revenue'], results_df['g_boost']),6)}\")\n",
    "confusion_output(df['Revenue'], results_df['g_boost'])"
   ]
  },
  {
   "cell_type": "markdown",
   "metadata": {},
   "source": [
    "### Gradient Descent"
   ]
  },
  {
   "cell_type": "code",
   "execution_count": 44,
   "metadata": {},
   "outputs": [
    {
     "name": "stdout",
     "output_type": "stream",
     "text": [
      "Accuracy Score: 0.916626\n",
      "=== CONFUSION MATRIX ===\n",
      "[[10067   355]\n",
      " [  673  1235]]\n"
     ]
    }
   ],
   "source": [
    "print(f\"Accuracy Score: {round(accuracy_score(df['Revenue'], results_df['g_desc']),6)}\")\n",
    "confusion_output(df['Revenue'], results_df['g_desc'])"
   ]
  }
 ],
 "metadata": {
  "kernelspec": {
   "display_name": "Python 3",
   "language": "python",
   "name": "python3"
  },
  "language_info": {
   "codemirror_mode": {
    "name": "ipython",
    "version": 3
   },
   "file_extension": ".py",
   "mimetype": "text/x-python",
   "name": "python",
   "nbconvert_exporter": "python",
   "pygments_lexer": "ipython3",
   "version": "3.7.6"
  }
 },
 "nbformat": 4,
 "nbformat_minor": 4
}
